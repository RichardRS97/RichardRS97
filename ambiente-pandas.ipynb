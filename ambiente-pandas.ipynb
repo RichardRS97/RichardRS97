{
 "cells": [
  {
   "cell_type": "code",
   "execution_count": 3,
   "metadata": {},
   "outputs": [
    {
     "name": "stderr",
     "output_type": "stream",
     "text": [
      "Downloading...\n",
      "From: https://drive.google.com/uc?id=1NdPhmb-AHogTZGSU_0vepCu0YbdbIG-D\n",
      "To: c:\\Users\\Richard\\OneDrive\\Área de Trabalho\\ESTUDOS\\arquivo.csv\n",
      "100%|██████████| 160k/160k [00:00<00:00, 996kB/s] \n"
     ]
    },
    {
     "name": "stdout",
     "output_type": "stream",
     "text": [
      "       country continent  year  lifeExp       pop   gdpPercap\n",
      "0  Afghanistan      Asia  1952   28.801   8425333  779.445314\n",
      "1  Afghanistan      Asia  1957   30.332   9240934  820.853030\n",
      "2  Afghanistan      Asia  1962   31.997  10267083  853.100710\n",
      "3  Afghanistan      Asia  1967   34.020  11537966  836.197138\n",
      "4  Afghanistan      Asia  1972   36.088  13079460  739.981106\n"
     ]
    }
   ],
   "source": [
    "# Biblioteca gdown para arquivos direto do Google Drive\n",
    "import gdown\n",
    "\n",
    "# Introdução a Biblioteca Pandas\n",
    "# Importando a biblioteca Pandas\n",
    "import pandas as pd\n",
    "\n",
    "# Criando um DataFrame a partir de um dicionário\n",
    "data = {'Nome': ['João', 'Maria', 'Pedro'],\n",
    "        'Idade': [25, 30, 22],\n",
    "        'Cidade': ['São Paulo', 'Rio de Janeiro', 'Belo Horizonte']}\n",
    "\n",
    "df = pd.DataFrame(data)\n",
    "\n",
    "# Lendo um arquivo CSV\n",
    "# ID do arquivo\n",
    "file_id = '1NdPhmb-AHogTZGSU_0vepCu0YbdbIG-D'\n",
    "url = f\"https://drive.google.com/uc?id={file_id}\"\n",
    "output = 'arquivo.csv'\n",
    "\n",
    "# Baixar o arquivo\n",
    "gdown.download(url, output, quiet=False)\n",
    "\n",
    "# Lendo o arquivo com pandas\n",
    "df = pd.read_csv(\"arquivo.csv\", sep=\";\")\n",
    "print(df.head())\n"
   ]
  },
  {
   "cell_type": "code",
   "execution_count": 4,
   "metadata": {},
   "outputs": [
    {
     "data": {
      "application/vnd.microsoft.datawrangler.viewer.v0+json": {
       "columns": [
        {
         "name": "index",
         "rawType": "int64",
         "type": "integer"
        },
        {
         "name": "País",
         "rawType": "object",
         "type": "string"
        },
        {
         "name": "Continente",
         "rawType": "object",
         "type": "unknown"
        },
        {
         "name": "Ano",
         "rawType": "int64",
         "type": "integer"
        },
        {
         "name": "Expectativa de Vida",
         "rawType": "float64",
         "type": "float"
        },
        {
         "name": "Pop Total",
         "rawType": "int64",
         "type": "integer"
        },
        {
         "name": "PIB",
         "rawType": "float64",
         "type": "float"
        }
       ],
       "conversionMethod": "pd.DataFrame",
       "ref": "63bc145e-bb7d-4ac4-b8b8-0bb4960833cb",
       "rows": [
        [
         "0",
         "Afghanistan",
         "Asia",
         "1952",
         "28.801",
         "8425333",
         "779.4453145"
        ],
        [
         "1",
         "Afghanistan",
         "Asia",
         "1957",
         "30.332",
         "9240934",
         "820.8530296"
        ],
        [
         "2",
         "Afghanistan",
         "Asia",
         "1962",
         "31.997",
         "10267083",
         "853.1007099999998"
        ],
        [
         "3",
         "Afghanistan",
         "Asia",
         "1967",
         "34.02",
         "11537966",
         "836.1971382"
        ],
        [
         "4",
         "Afghanistan",
         "Asia",
         "1972",
         "36.088",
         "13079460",
         "739.9811057999998"
        ],
        [
         "5",
         "Afghanistan",
         "Asia",
         "1977",
         "38.438",
         "14880372",
         "786.11336"
        ],
        [
         "6",
         "Afghanistan",
         "Asia",
         "1982",
         "39.854",
         "12881816",
         "978.0114388"
        ],
        [
         "7",
         "Afghanistan",
         "Asia",
         "1987",
         "40.822",
         "13867957",
         "852.3959447999998"
        ],
        [
         "8",
         "Afghanistan",
         "Asia",
         "1992",
         "41.674",
         "16317921",
         "649.3413952000002"
        ],
        [
         "9",
         "Afghanistan",
         "Asia",
         "1997",
         "41.76300000000001",
         "22227415",
         "635.341351"
        ],
        [
         "10",
         "Afghanistan",
         "Asia",
         "2002",
         "42.129",
         "25268405",
         "726.7340548"
        ],
        [
         "11",
         "Afghanistan",
         "Asia",
         "2007",
         "43.828",
         "31889923",
         "974.5803384"
        ],
        [
         "12",
         "Albania",
         "Europe",
         "1952",
         "55.23",
         "1282697",
         "1601.056136"
        ],
        [
         "13",
         "Albania",
         "Europe",
         "1957",
         "59.28",
         "1476505",
         "1942.284244"
        ],
        [
         "14",
         "Albania",
         "Europe",
         "1962",
         "64.82",
         "1728137",
         "2312.888958"
        ],
        [
         "15",
         "Albania",
         "Europe",
         "1967",
         "66.22",
         "1984060",
         "2760.196931"
        ],
        [
         "16",
         "Albania",
         "Europe",
         "1972",
         "67.69",
         "2263554",
         "3313.422188"
        ],
        [
         "17",
         "Albania",
         "Europe",
         "1977",
         "68.93",
         "2509048",
         "3533.003910000001"
        ],
        [
         "18",
         "Albania",
         "Europe",
         "1982",
         "70.42",
         "2780097",
         "3630.880722"
        ],
        [
         "19",
         "Albania",
         "Europe",
         "1987",
         "72.0",
         "3075321",
         "3738.932735"
        ],
        [
         "20",
         "Albania",
         "Europe",
         "1992",
         "71.581",
         "3326498",
         "2497.437901"
        ],
        [
         "21",
         "Albania",
         "Europe",
         "1997",
         "72.95",
         "3428038",
         "3193.054604"
        ],
        [
         "22",
         "Albania",
         "Europe",
         "2002",
         "75.65100000000002",
         "3508512",
         "4604.211737"
        ],
        [
         "23",
         "Albania",
         "Europe",
         "2007",
         "76.423",
         "3600523",
         "5937.029525999998"
        ],
        [
         "24",
         "Algeria",
         "Africa",
         "1952",
         "43.077",
         "9279525",
         "2449.008185"
        ],
        [
         "25",
         "Algeria",
         "Africa",
         "1957",
         "45.685",
         "10270856",
         "3013.976023"
        ],
        [
         "26",
         "Algeria",
         "Africa",
         "1962",
         "48.303",
         "11000948",
         "2550.81688"
        ],
        [
         "27",
         "Algeria",
         "Africa",
         "1967",
         "51.407",
         "12760499",
         "3246.991771"
        ],
        [
         "28",
         "Algeria",
         "Africa",
         "1972",
         "54.518",
         "14760787",
         "4182.663766"
        ],
        [
         "29",
         "Algeria",
         "Africa",
         "1977",
         "58.014",
         "17152804",
         "4910.416756000001"
        ],
        [
         "30",
         "Algeria",
         "Africa",
         "1982",
         "61.368",
         "20033753",
         "5745.160213"
        ],
        [
         "31",
         "Algeria",
         "Africa",
         "1987",
         "65.79899999999999",
         "23254956",
         "5681.358539"
        ],
        [
         "32",
         "Algeria",
         "Africa",
         "1992",
         "67.744",
         "26298373",
         "5023.216647"
        ],
        [
         "33",
         "Algeria",
         "Africa",
         "1997",
         "69.152",
         "29072015",
         "4797.295051"
        ],
        [
         "34",
         "Algeria",
         "Africa",
         "2002",
         "70.994",
         "31287142",
         "5288.040382"
        ],
        [
         "35",
         "Algeria",
         "Africa",
         "2007",
         "72.301",
         "33333216",
         "6223.367465"
        ],
        [
         "36",
         "Angola",
         "Africa",
         "1952",
         "30.015",
         "4232095",
         "3520.610273"
        ],
        [
         "37",
         "Angola",
         "Africa",
         "1957",
         "31.999",
         "4561361",
         "3827.940465"
        ],
        [
         "38",
         "Angola",
         "Africa",
         "1962",
         "34.0",
         "4826015",
         "4269.276742"
        ],
        [
         "39",
         "Angola",
         "Africa",
         "1967",
         "35.985",
         "5247469",
         "5522.776375"
        ],
        [
         "40",
         "Angola",
         "Africa",
         "1972",
         "37.928",
         "5894858",
         "5473.288004999999"
        ],
        [
         "41",
         "Angola",
         "Africa",
         "1977",
         "39.483",
         "6162675",
         "3008.647355"
        ],
        [
         "42",
         "Angola",
         "Africa",
         "1982",
         "39.942",
         "7016384",
         "2756.953672"
        ],
        [
         "43",
         "Angola",
         "Africa",
         "1987",
         "39.906",
         "7874230",
         "2430.208311"
        ],
        [
         "44",
         "Angola",
         "Africa",
         "1992",
         "40.647",
         "8735988",
         "2627.845685"
        ],
        [
         "45",
         "Angola",
         "Africa",
         "1997",
         "40.963",
         "9875024",
         "2277.140884"
        ],
        [
         "46",
         "Angola",
         "Africa",
         "2002",
         "41.003",
         "10866106",
         "2773.287312"
        ],
        [
         "47",
         "Angola",
         "Africa",
         "2007",
         "42.731",
         "12420476",
         "4797.231267"
        ],
        [
         "48",
         "Argentina",
         "Americas",
         "1952",
         "62.485",
         "17876956",
         "5911.315053"
        ],
        [
         "49",
         "Argentina",
         "Americas",
         "1957",
         "64.399",
         "19610538",
         "6856.8562120000015"
        ]
       ],
       "shape": {
        "columns": 6,
        "rows": 3312
       }
      },
      "text/html": [
       "<div>\n",
       "<style scoped>\n",
       "    .dataframe tbody tr th:only-of-type {\n",
       "        vertical-align: middle;\n",
       "    }\n",
       "\n",
       "    .dataframe tbody tr th {\n",
       "        vertical-align: top;\n",
       "    }\n",
       "\n",
       "    .dataframe thead th {\n",
       "        text-align: right;\n",
       "    }\n",
       "</style>\n",
       "<table border=\"1\" class=\"dataframe\">\n",
       "  <thead>\n",
       "    <tr style=\"text-align: right;\">\n",
       "      <th></th>\n",
       "      <th>País</th>\n",
       "      <th>Continente</th>\n",
       "      <th>Ano</th>\n",
       "      <th>Expectativa de Vida</th>\n",
       "      <th>Pop Total</th>\n",
       "      <th>PIB</th>\n",
       "    </tr>\n",
       "  </thead>\n",
       "  <tbody>\n",
       "    <tr>\n",
       "      <th>0</th>\n",
       "      <td>Afghanistan</td>\n",
       "      <td>Asia</td>\n",
       "      <td>1952</td>\n",
       "      <td>28.801</td>\n",
       "      <td>8425333</td>\n",
       "      <td>779.445314</td>\n",
       "    </tr>\n",
       "    <tr>\n",
       "      <th>1</th>\n",
       "      <td>Afghanistan</td>\n",
       "      <td>Asia</td>\n",
       "      <td>1957</td>\n",
       "      <td>30.332</td>\n",
       "      <td>9240934</td>\n",
       "      <td>820.853030</td>\n",
       "    </tr>\n",
       "    <tr>\n",
       "      <th>2</th>\n",
       "      <td>Afghanistan</td>\n",
       "      <td>Asia</td>\n",
       "      <td>1962</td>\n",
       "      <td>31.997</td>\n",
       "      <td>10267083</td>\n",
       "      <td>853.100710</td>\n",
       "    </tr>\n",
       "    <tr>\n",
       "      <th>3</th>\n",
       "      <td>Afghanistan</td>\n",
       "      <td>Asia</td>\n",
       "      <td>1967</td>\n",
       "      <td>34.020</td>\n",
       "      <td>11537966</td>\n",
       "      <td>836.197138</td>\n",
       "    </tr>\n",
       "    <tr>\n",
       "      <th>4</th>\n",
       "      <td>Afghanistan</td>\n",
       "      <td>Asia</td>\n",
       "      <td>1972</td>\n",
       "      <td>36.088</td>\n",
       "      <td>13079460</td>\n",
       "      <td>739.981106</td>\n",
       "    </tr>\n",
       "    <tr>\n",
       "      <th>...</th>\n",
       "      <td>...</td>\n",
       "      <td>...</td>\n",
       "      <td>...</td>\n",
       "      <td>...</td>\n",
       "      <td>...</td>\n",
       "      <td>...</td>\n",
       "    </tr>\n",
       "    <tr>\n",
       "      <th>3307</th>\n",
       "      <td>Zimbabwe</td>\n",
       "      <td>Africa</td>\n",
       "      <td>1987</td>\n",
       "      <td>62.351</td>\n",
       "      <td>9216418</td>\n",
       "      <td>706.157306</td>\n",
       "    </tr>\n",
       "    <tr>\n",
       "      <th>3308</th>\n",
       "      <td>Zimbabwe</td>\n",
       "      <td>Africa</td>\n",
       "      <td>1992</td>\n",
       "      <td>60.377</td>\n",
       "      <td>10704340</td>\n",
       "      <td>693.420786</td>\n",
       "    </tr>\n",
       "    <tr>\n",
       "      <th>3309</th>\n",
       "      <td>Zimbabwe</td>\n",
       "      <td>Africa</td>\n",
       "      <td>1997</td>\n",
       "      <td>46.809</td>\n",
       "      <td>11404948</td>\n",
       "      <td>792.449960</td>\n",
       "    </tr>\n",
       "    <tr>\n",
       "      <th>3310</th>\n",
       "      <td>Zimbabwe</td>\n",
       "      <td>Africa</td>\n",
       "      <td>2002</td>\n",
       "      <td>39.989</td>\n",
       "      <td>11926563</td>\n",
       "      <td>672.038623</td>\n",
       "    </tr>\n",
       "    <tr>\n",
       "      <th>3311</th>\n",
       "      <td>Zimbabwe</td>\n",
       "      <td>Africa</td>\n",
       "      <td>2007</td>\n",
       "      <td>43.487</td>\n",
       "      <td>12311143</td>\n",
       "      <td>469.709298</td>\n",
       "    </tr>\n",
       "  </tbody>\n",
       "</table>\n",
       "<p>3312 rows × 6 columns</p>\n",
       "</div>"
      ],
      "text/plain": [
       "             País Continente   Ano  Expectativa de Vida  Pop Total         PIB\n",
       "0     Afghanistan       Asia  1952               28.801    8425333  779.445314\n",
       "1     Afghanistan       Asia  1957               30.332    9240934  820.853030\n",
       "2     Afghanistan       Asia  1962               31.997   10267083  853.100710\n",
       "3     Afghanistan       Asia  1967               34.020   11537966  836.197138\n",
       "4     Afghanistan       Asia  1972               36.088   13079460  739.981106\n",
       "...           ...        ...   ...                  ...        ...         ...\n",
       "3307     Zimbabwe     Africa  1987               62.351    9216418  706.157306\n",
       "3308     Zimbabwe     Africa  1992               60.377   10704340  693.420786\n",
       "3309     Zimbabwe     Africa  1997               46.809   11404948  792.449960\n",
       "3310     Zimbabwe     Africa  2002               39.989   11926563  672.038623\n",
       "3311     Zimbabwe     Africa  2007               43.487   12311143  469.709298\n",
       "\n",
       "[3312 rows x 6 columns]"
      ]
     },
     "execution_count": 4,
     "metadata": {},
     "output_type": "execute_result"
    }
   ],
   "source": [
    "# Alterando o nome das colunas\n",
    "df.rename(columns={'country': 'País', 'continent': 'Continente', 'year': 'Ano', 'lifeExp': 'Expectativa de Vida', 'pop': 'Pop Total', 'gdpPercap': 'PIB'})\n"
   ]
  },
  {
   "cell_type": "code",
   "execution_count": 5,
   "metadata": {},
   "outputs": [
    {
     "data": {
      "text/plain": [
       "(3312, 6)"
      ]
     },
     "execution_count": 5,
     "metadata": {},
     "output_type": "execute_result"
    }
   ],
   "source": [
    "# Exibindo as primeiras linhas do DataFrame. Ex: 10 primeiras linhas\n",
    "df.head(10)\n",
    "\n",
    "# Exibindo as últimas linhas do DataFrame. Ex: 10 últimas linhas\n",
    "df.tail(10)\n",
    "\n",
    "# Exibindo o total de linhas e colunas do DataFrame\n",
    "df.shape\n"
   ]
  },
  {
   "cell_type": "code",
   "execution_count": 6,
   "metadata": {},
   "outputs": [
    {
     "data": {
      "text/plain": [
       "country       object\n",
       "continent     object\n",
       "year           int64\n",
       "lifeExp      float64\n",
       "pop            int64\n",
       "gdpPercap    float64\n",
       "dtype: object"
      ]
     },
     "execution_count": 6,
     "metadata": {},
     "output_type": "execute_result"
    }
   ],
   "source": [
    "# O tipo de dados presentes em cada coluna\n",
    "df.dtypes"
   ]
  },
  {
   "cell_type": "code",
   "execution_count": 7,
   "metadata": {},
   "outputs": [
    {
     "data": {
      "application/vnd.microsoft.datawrangler.viewer.v0+json": {
       "columns": [
        {
         "name": "index",
         "rawType": "object",
         "type": "string"
        },
        {
         "name": "year",
         "rawType": "float64",
         "type": "float"
        },
        {
         "name": "lifeExp",
         "rawType": "float64",
         "type": "float"
        },
        {
         "name": "pop",
         "rawType": "float64",
         "type": "float"
        },
        {
         "name": "gdpPercap",
         "rawType": "float64",
         "type": "float"
        }
       ],
       "conversionMethod": "pd.DataFrame",
       "ref": "2596a376-34f7-48c6-809d-2ba86bc02a1c",
       "rows": [
        [
         "count",
         "3312.0",
         "3312.0",
         "3312.0",
         "3312.0"
        ],
        [
         "mean",
         "1980.3016304347825",
         "65.24687051932368",
         "31614890.816727053",
         "11317.115804696648"
        ],
        [
         "std",
         "16.927293767654714",
         "11.768411939499941",
         "104119342.88526247",
         "11369.142738983968"
        ],
        [
         "min",
         "1950.0",
         "23.599",
         "59412.0",
         "241.1658765"
        ],
        [
         "25%",
         "1967.0",
         "58.3375",
         "2678572.0",
         "2514.625266"
        ],
        [
         "50%",
         "1982.0",
         "69.61",
         "7557218.5",
         "7838.505123000001"
        ],
        [
         "75%",
         "1996.0",
         "73.65775",
         "19585221.75",
         "17357.87917"
        ],
        [
         "max",
         "2007.0",
         "82.67",
         "1318683096.0",
         "113523.1329"
        ]
       ],
       "shape": {
        "columns": 4,
        "rows": 8
       }
      },
      "text/html": [
       "<div>\n",
       "<style scoped>\n",
       "    .dataframe tbody tr th:only-of-type {\n",
       "        vertical-align: middle;\n",
       "    }\n",
       "\n",
       "    .dataframe tbody tr th {\n",
       "        vertical-align: top;\n",
       "    }\n",
       "\n",
       "    .dataframe thead th {\n",
       "        text-align: right;\n",
       "    }\n",
       "</style>\n",
       "<table border=\"1\" class=\"dataframe\">\n",
       "  <thead>\n",
       "    <tr style=\"text-align: right;\">\n",
       "      <th></th>\n",
       "      <th>year</th>\n",
       "      <th>lifeExp</th>\n",
       "      <th>pop</th>\n",
       "      <th>gdpPercap</th>\n",
       "    </tr>\n",
       "  </thead>\n",
       "  <tbody>\n",
       "    <tr>\n",
       "      <th>count</th>\n",
       "      <td>3312.000000</td>\n",
       "      <td>3312.000000</td>\n",
       "      <td>3.312000e+03</td>\n",
       "      <td>3312.000000</td>\n",
       "    </tr>\n",
       "    <tr>\n",
       "      <th>mean</th>\n",
       "      <td>1980.301630</td>\n",
       "      <td>65.246871</td>\n",
       "      <td>3.161489e+07</td>\n",
       "      <td>11317.115805</td>\n",
       "    </tr>\n",
       "    <tr>\n",
       "      <th>std</th>\n",
       "      <td>16.927294</td>\n",
       "      <td>11.768412</td>\n",
       "      <td>1.041193e+08</td>\n",
       "      <td>11369.142739</td>\n",
       "    </tr>\n",
       "    <tr>\n",
       "      <th>min</th>\n",
       "      <td>1950.000000</td>\n",
       "      <td>23.599000</td>\n",
       "      <td>5.941200e+04</td>\n",
       "      <td>241.165876</td>\n",
       "    </tr>\n",
       "    <tr>\n",
       "      <th>25%</th>\n",
       "      <td>1967.000000</td>\n",
       "      <td>58.337500</td>\n",
       "      <td>2.678572e+06</td>\n",
       "      <td>2514.625266</td>\n",
       "    </tr>\n",
       "    <tr>\n",
       "      <th>50%</th>\n",
       "      <td>1982.000000</td>\n",
       "      <td>69.610000</td>\n",
       "      <td>7.557218e+06</td>\n",
       "      <td>7838.505123</td>\n",
       "    </tr>\n",
       "    <tr>\n",
       "      <th>75%</th>\n",
       "      <td>1996.000000</td>\n",
       "      <td>73.657750</td>\n",
       "      <td>1.958522e+07</td>\n",
       "      <td>17357.879170</td>\n",
       "    </tr>\n",
       "    <tr>\n",
       "      <th>max</th>\n",
       "      <td>2007.000000</td>\n",
       "      <td>82.670000</td>\n",
       "      <td>1.318683e+09</td>\n",
       "      <td>113523.132900</td>\n",
       "    </tr>\n",
       "  </tbody>\n",
       "</table>\n",
       "</div>"
      ],
      "text/plain": [
       "              year      lifeExp           pop      gdpPercap\n",
       "count  3312.000000  3312.000000  3.312000e+03    3312.000000\n",
       "mean   1980.301630    65.246871  3.161489e+07   11317.115805\n",
       "std      16.927294    11.768412  1.041193e+08   11369.142739\n",
       "min    1950.000000    23.599000  5.941200e+04     241.165876\n",
       "25%    1967.000000    58.337500  2.678572e+06    2514.625266\n",
       "50%    1982.000000    69.610000  7.557218e+06    7838.505123\n",
       "75%    1996.000000    73.657750  1.958522e+07   17357.879170\n",
       "max    2007.000000    82.670000  1.318683e+09  113523.132900"
      ]
     },
     "execution_count": 7,
     "metadata": {},
     "output_type": "execute_result"
    }
   ],
   "source": [
    "# Retornando informações estatísticas do DataFrame\n",
    "df.describe()"
   ]
  },
  {
   "cell_type": "code",
   "execution_count": 9,
   "metadata": {},
   "outputs": [
    {
     "data": {
      "text/plain": [
       "array(['Asia', 'Europe', 'Africa', 'Americas', nan, 'FSU', 'Oceania'],\n",
       "      dtype=object)"
      ]
     },
     "execution_count": 9,
     "metadata": {},
     "output_type": "execute_result"
    }
   ],
   "source": [
    "# Retornando valores unicos de cada coluna\n",
    "df['continent'].unique()"
   ]
  },
  {
   "cell_type": "code",
   "execution_count": 10,
   "metadata": {},
   "outputs": [
    {
     "data": {
      "application/vnd.microsoft.datawrangler.viewer.v0+json": {
       "columns": [
        {
         "name": "index",
         "rawType": "int64",
         "type": "integer"
        },
        {
         "name": "country",
         "rawType": "object",
         "type": "string"
        },
        {
         "name": "continent",
         "rawType": "object",
         "type": "string"
        },
        {
         "name": "year",
         "rawType": "int64",
         "type": "integer"
        },
        {
         "name": "lifeExp",
         "rawType": "float64",
         "type": "float"
        },
        {
         "name": "pop",
         "rawType": "int64",
         "type": "integer"
        },
        {
         "name": "gdpPercap",
         "rawType": "float64",
         "type": "float"
        }
       ],
       "conversionMethod": "pd.DataFrame",
       "ref": "e86ea28e-423b-43e8-a4d8-79a1b32db843",
       "rows": [
        [
         "975",
         "Fiji",
         "Oceania",
         "1962",
         "56.494",
         "421869",
         "2039.393277"
        ],
        [
         "976",
         "Fiji",
         "Oceania",
         "1967",
         "58.607",
         "485000",
         "2170.073285"
        ],
        [
         "977",
         "Fiji",
         "Oceania",
         "1972",
         "60.642",
         "544000",
         "2797.759484"
        ],
        [
         "978",
         "Fiji",
         "Oceania",
         "1977",
         "62.669",
         "599339",
         "3182.5696"
        ],
        [
         "979",
         "Fiji",
         "Oceania",
         "1982",
         "64.683",
         "658906",
         "3209.257468"
        ],
        [
         "980",
         "Fiji",
         "Oceania",
         "1987",
         "66.626",
         "719574",
         "2974.850227"
        ],
        [
         "981",
         "Fiji",
         "Oceania",
         "1992",
         "66.575",
         "750242",
         "3410.28604"
        ],
        [
         "982",
         "Fiji",
         "Oceania",
         "1997",
         "66.836",
         "797890",
         "3643.629208"
        ],
        [
         "983",
         "Fiji",
         "Oceania",
         "2002",
         "67.832",
         "856346",
         "4004.481972"
        ],
        [
         "984",
         "Fiji",
         "Oceania",
         "2007",
         "68.774",
         "918675",
         "4118.158294"
        ]
       ],
       "shape": {
        "columns": 6,
        "rows": 10
       }
      },
      "text/html": [
       "<div>\n",
       "<style scoped>\n",
       "    .dataframe tbody tr th:only-of-type {\n",
       "        vertical-align: middle;\n",
       "    }\n",
       "\n",
       "    .dataframe tbody tr th {\n",
       "        vertical-align: top;\n",
       "    }\n",
       "\n",
       "    .dataframe thead th {\n",
       "        text-align: right;\n",
       "    }\n",
       "</style>\n",
       "<table border=\"1\" class=\"dataframe\">\n",
       "  <thead>\n",
       "    <tr style=\"text-align: right;\">\n",
       "      <th></th>\n",
       "      <th>country</th>\n",
       "      <th>continent</th>\n",
       "      <th>year</th>\n",
       "      <th>lifeExp</th>\n",
       "      <th>pop</th>\n",
       "      <th>gdpPercap</th>\n",
       "    </tr>\n",
       "  </thead>\n",
       "  <tbody>\n",
       "    <tr>\n",
       "      <th>975</th>\n",
       "      <td>Fiji</td>\n",
       "      <td>Oceania</td>\n",
       "      <td>1962</td>\n",
       "      <td>56.494</td>\n",
       "      <td>421869</td>\n",
       "      <td>2039.393277</td>\n",
       "    </tr>\n",
       "    <tr>\n",
       "      <th>976</th>\n",
       "      <td>Fiji</td>\n",
       "      <td>Oceania</td>\n",
       "      <td>1967</td>\n",
       "      <td>58.607</td>\n",
       "      <td>485000</td>\n",
       "      <td>2170.073285</td>\n",
       "    </tr>\n",
       "    <tr>\n",
       "      <th>977</th>\n",
       "      <td>Fiji</td>\n",
       "      <td>Oceania</td>\n",
       "      <td>1972</td>\n",
       "      <td>60.642</td>\n",
       "      <td>544000</td>\n",
       "      <td>2797.759484</td>\n",
       "    </tr>\n",
       "    <tr>\n",
       "      <th>978</th>\n",
       "      <td>Fiji</td>\n",
       "      <td>Oceania</td>\n",
       "      <td>1977</td>\n",
       "      <td>62.669</td>\n",
       "      <td>599339</td>\n",
       "      <td>3182.569600</td>\n",
       "    </tr>\n",
       "    <tr>\n",
       "      <th>979</th>\n",
       "      <td>Fiji</td>\n",
       "      <td>Oceania</td>\n",
       "      <td>1982</td>\n",
       "      <td>64.683</td>\n",
       "      <td>658906</td>\n",
       "      <td>3209.257468</td>\n",
       "    </tr>\n",
       "    <tr>\n",
       "      <th>980</th>\n",
       "      <td>Fiji</td>\n",
       "      <td>Oceania</td>\n",
       "      <td>1987</td>\n",
       "      <td>66.626</td>\n",
       "      <td>719574</td>\n",
       "      <td>2974.850227</td>\n",
       "    </tr>\n",
       "    <tr>\n",
       "      <th>981</th>\n",
       "      <td>Fiji</td>\n",
       "      <td>Oceania</td>\n",
       "      <td>1992</td>\n",
       "      <td>66.575</td>\n",
       "      <td>750242</td>\n",
       "      <td>3410.286040</td>\n",
       "    </tr>\n",
       "    <tr>\n",
       "      <th>982</th>\n",
       "      <td>Fiji</td>\n",
       "      <td>Oceania</td>\n",
       "      <td>1997</td>\n",
       "      <td>66.836</td>\n",
       "      <td>797890</td>\n",
       "      <td>3643.629208</td>\n",
       "    </tr>\n",
       "    <tr>\n",
       "      <th>983</th>\n",
       "      <td>Fiji</td>\n",
       "      <td>Oceania</td>\n",
       "      <td>2002</td>\n",
       "      <td>67.832</td>\n",
       "      <td>856346</td>\n",
       "      <td>4004.481972</td>\n",
       "    </tr>\n",
       "    <tr>\n",
       "      <th>984</th>\n",
       "      <td>Fiji</td>\n",
       "      <td>Oceania</td>\n",
       "      <td>2007</td>\n",
       "      <td>68.774</td>\n",
       "      <td>918675</td>\n",
       "      <td>4118.158294</td>\n",
       "    </tr>\n",
       "  </tbody>\n",
       "</table>\n",
       "</div>"
      ],
      "text/plain": [
       "    country continent  year  lifeExp     pop    gdpPercap\n",
       "975    Fiji   Oceania  1962   56.494  421869  2039.393277\n",
       "976    Fiji   Oceania  1967   58.607  485000  2170.073285\n",
       "977    Fiji   Oceania  1972   60.642  544000  2797.759484\n",
       "978    Fiji   Oceania  1977   62.669  599339  3182.569600\n",
       "979    Fiji   Oceania  1982   64.683  658906  3209.257468\n",
       "980    Fiji   Oceania  1987   66.626  719574  2974.850227\n",
       "981    Fiji   Oceania  1992   66.575  750242  3410.286040\n",
       "982    Fiji   Oceania  1997   66.836  797890  3643.629208\n",
       "983    Fiji   Oceania  2002   67.832  856346  4004.481972\n",
       "984    Fiji   Oceania  2007   68.774  918675  4118.158294"
      ]
     },
     "execution_count": 10,
     "metadata": {},
     "output_type": "execute_result"
    }
   ],
   "source": [
    "# Exibindo apenas o continente oceania\n",
    "Oceania = df.loc[df['continent'] == 'Oceania']\n",
    "Oceania.head(10)"
   ]
  },
  {
   "cell_type": "code",
   "execution_count": 11,
   "metadata": {},
   "outputs": [
    {
     "data": {
      "text/plain": [
       "continent\n",
       "Africa      51\n",
       "Americas    25\n",
       "Asia        41\n",
       "Europe      35\n",
       "FSU          6\n",
       "Oceania      3\n",
       "Name: country, dtype: int64"
      ]
     },
     "execution_count": 11,
     "metadata": {},
     "output_type": "execute_result"
    }
   ],
   "source": [
    "# Exibindo a quantidade de países por continente\n",
    "df.groupby('continent')['country'].nunique()\n"
   ]
  },
  {
   "cell_type": "code",
   "execution_count": 12,
   "metadata": {},
   "outputs": [
    {
     "data": {
      "text/plain": [
       "year\n",
       "1950    62.002568\n",
       "1951    65.904167\n",
       "1952    49.206867\n",
       "1953    66.674563\n",
       "1954    67.459817\n",
       "1955    67.806757\n",
       "1956    67.950637\n",
       "1957    51.614590\n",
       "1958    68.815936\n",
       "1959    68.226579\n",
       "1960    68.470837\n",
       "1961    68.862480\n",
       "1962    54.035234\n",
       "1963    69.595735\n",
       "1964    70.063105\n",
       "1965    70.259881\n",
       "1966    70.447526\n",
       "1967    56.263629\n",
       "1968    70.689081\n",
       "1969    70.653896\n",
       "1970    70.961141\n",
       "1971    71.103976\n",
       "1972    58.474481\n",
       "1973    71.500338\n",
       "1974    71.778504\n",
       "1975    71.939218\n",
       "1976    72.158050\n",
       "1977    60.429090\n",
       "1978    72.717567\n",
       "1979    73.018717\n",
       "1980    73.064524\n",
       "1981    73.337399\n",
       "1982    62.365871\n",
       "1983    73.787778\n",
       "1984    74.100741\n",
       "1985    74.112222\n",
       "1986    74.452222\n",
       "1987    63.984860\n",
       "1988    74.760000\n",
       "1989    74.924444\n",
       "1990    74.283438\n",
       "1991    74.374848\n",
       "1992    65.008443\n",
       "1993    74.324545\n",
       "1994    74.456667\n",
       "1995    74.552727\n",
       "1996    75.029394\n",
       "1997    65.873799\n",
       "1998    75.569697\n",
       "1999    75.703636\n",
       "2000    76.026364\n",
       "2001    76.257879\n",
       "2002    66.835695\n",
       "2003    76.586667\n",
       "2004    76.921562\n",
       "2005    76.718667\n",
       "2006    77.887778\n",
       "2007    67.868557\n",
       "Name: lifeExp, dtype: float64"
      ]
     },
     "execution_count": 12,
     "metadata": {},
     "output_type": "execute_result"
    }
   ],
   "source": [
    "# Exibindo a expectativa de vida média para cada ano\n",
    "df.groupby('year')['lifeExp'].mean()\n"
   ]
  }
 ],
 "metadata": {
  "kernelspec": {
   "display_name": "Python 3",
   "language": "python",
   "name": "python3"
  },
  "language_info": {
   "codemirror_mode": {
    "name": "ipython",
    "version": 3
   },
   "file_extension": ".py",
   "mimetype": "text/x-python",
   "name": "python",
   "nbconvert_exporter": "python",
   "pygments_lexer": "ipython3",
   "version": "3.12.9"
  }
 },
 "nbformat": 4,
 "nbformat_minor": 2
}
