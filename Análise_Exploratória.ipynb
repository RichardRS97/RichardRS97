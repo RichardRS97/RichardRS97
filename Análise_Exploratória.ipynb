{
 "cells": [
  {
   "cell_type": "code",
   "execution_count": 1,
   "metadata": {},
   "outputs": [
    {
     "name": "stdout",
     "output_type": "stream",
     "text": [
      "Requirement already satisfied: matplotlib in c:\\users\\richard\\onedrive\\área de trabalho\\estudos\\.venv\\lib\\site-packages (3.10.1)\n",
      "Requirement already satisfied: contourpy>=1.0.1 in c:\\users\\richard\\onedrive\\área de trabalho\\estudos\\.venv\\lib\\site-packages (from matplotlib) (1.3.1)\n",
      "Requirement already satisfied: cycler>=0.10 in c:\\users\\richard\\onedrive\\área de trabalho\\estudos\\.venv\\lib\\site-packages (from matplotlib) (0.12.1)\n",
      "Requirement already satisfied: fonttools>=4.22.0 in c:\\users\\richard\\onedrive\\área de trabalho\\estudos\\.venv\\lib\\site-packages (from matplotlib) (4.56.0)\n",
      "Requirement already satisfied: kiwisolver>=1.3.1 in c:\\users\\richard\\onedrive\\área de trabalho\\estudos\\.venv\\lib\\site-packages (from matplotlib) (1.4.8)\n",
      "Requirement already satisfied: numpy>=1.23 in c:\\users\\richard\\onedrive\\área de trabalho\\estudos\\.venv\\lib\\site-packages (from matplotlib) (2.2.3)\n",
      "Requirement already satisfied: packaging>=20.0 in c:\\users\\richard\\onedrive\\área de trabalho\\estudos\\.venv\\lib\\site-packages (from matplotlib) (24.2)\n",
      "Requirement already satisfied: pillow>=8 in c:\\users\\richard\\onedrive\\área de trabalho\\estudos\\.venv\\lib\\site-packages (from matplotlib) (11.1.0)\n",
      "Requirement already satisfied: pyparsing>=2.3.1 in c:\\users\\richard\\onedrive\\área de trabalho\\estudos\\.venv\\lib\\site-packages (from matplotlib) (3.2.1)\n",
      "Requirement already satisfied: python-dateutil>=2.7 in c:\\users\\richard\\onedrive\\área de trabalho\\estudos\\.venv\\lib\\site-packages (from matplotlib) (2.9.0.post0)\n",
      "Requirement already satisfied: six>=1.5 in c:\\users\\richard\\onedrive\\área de trabalho\\estudos\\.venv\\lib\\site-packages (from python-dateutil>=2.7->matplotlib) (1.17.0)\n",
      "Requirement already satisfied: seaborn in c:\\users\\richard\\onedrive\\área de trabalho\\estudos\\.venv\\lib\\site-packages (0.13.2)\n",
      "Requirement already satisfied: numpy!=1.24.0,>=1.20 in c:\\users\\richard\\onedrive\\área de trabalho\\estudos\\.venv\\lib\\site-packages (from seaborn) (2.2.3)\n",
      "Requirement already satisfied: pandas>=1.2 in c:\\users\\richard\\onedrive\\área de trabalho\\estudos\\.venv\\lib\\site-packages (from seaborn) (2.2.3)\n",
      "Requirement already satisfied: matplotlib!=3.6.1,>=3.4 in c:\\users\\richard\\onedrive\\área de trabalho\\estudos\\.venv\\lib\\site-packages (from seaborn) (3.10.1)\n",
      "Requirement already satisfied: contourpy>=1.0.1 in c:\\users\\richard\\onedrive\\área de trabalho\\estudos\\.venv\\lib\\site-packages (from matplotlib!=3.6.1,>=3.4->seaborn) (1.3.1)\n",
      "Requirement already satisfied: cycler>=0.10 in c:\\users\\richard\\onedrive\\área de trabalho\\estudos\\.venv\\lib\\site-packages (from matplotlib!=3.6.1,>=3.4->seaborn) (0.12.1)\n",
      "Requirement already satisfied: fonttools>=4.22.0 in c:\\users\\richard\\onedrive\\área de trabalho\\estudos\\.venv\\lib\\site-packages (from matplotlib!=3.6.1,>=3.4->seaborn) (4.56.0)\n",
      "Requirement already satisfied: kiwisolver>=1.3.1 in c:\\users\\richard\\onedrive\\área de trabalho\\estudos\\.venv\\lib\\site-packages (from matplotlib!=3.6.1,>=3.4->seaborn) (1.4.8)\n",
      "Requirement already satisfied: packaging>=20.0 in c:\\users\\richard\\onedrive\\área de trabalho\\estudos\\.venv\\lib\\site-packages (from matplotlib!=3.6.1,>=3.4->seaborn) (24.2)\n",
      "Requirement already satisfied: pillow>=8 in c:\\users\\richard\\onedrive\\área de trabalho\\estudos\\.venv\\lib\\site-packages (from matplotlib!=3.6.1,>=3.4->seaborn) (11.1.0)\n",
      "Requirement already satisfied: pyparsing>=2.3.1 in c:\\users\\richard\\onedrive\\área de trabalho\\estudos\\.venv\\lib\\site-packages (from matplotlib!=3.6.1,>=3.4->seaborn) (3.2.1)\n",
      "Requirement already satisfied: python-dateutil>=2.7 in c:\\users\\richard\\onedrive\\área de trabalho\\estudos\\.venv\\lib\\site-packages (from matplotlib!=3.6.1,>=3.4->seaborn) (2.9.0.post0)\n",
      "Requirement already satisfied: pytz>=2020.1 in c:\\users\\richard\\onedrive\\área de trabalho\\estudos\\.venv\\lib\\site-packages (from pandas>=1.2->seaborn) (2025.1)\n",
      "Requirement already satisfied: tzdata>=2022.7 in c:\\users\\richard\\onedrive\\área de trabalho\\estudos\\.venv\\lib\\site-packages (from pandas>=1.2->seaborn) (2025.1)\n",
      "Requirement already satisfied: six>=1.5 in c:\\users\\richard\\onedrive\\área de trabalho\\estudos\\.venv\\lib\\site-packages (from python-dateutil>=2.7->matplotlib!=3.6.1,>=3.4->seaborn) (1.17.0)\n"
     ]
    }
   ],
   "source": [
    "# Importanto as bibliotecas necessárias\n",
    "! pip install matplotlib\n",
    "! pip install seaborn"
   ]
  },
  {
   "cell_type": "code",
   "execution_count": 2,
   "metadata": {},
   "outputs": [
    {
     "name": "stdout",
     "output_type": "stream",
     "text": [
      "Requirement already satisfied: matplotlib in c:\\users\\richard\\onedrive\\área de trabalho\\estudos\\.venv\\lib\\site-packages (3.10.1)\n",
      "Requirement already satisfied: seaborn in c:\\users\\richard\\onedrive\\área de trabalho\\estudos\\.venv\\lib\\site-packages (0.13.2)\n",
      "Requirement already satisfied: contourpy>=1.0.1 in c:\\users\\richard\\onedrive\\área de trabalho\\estudos\\.venv\\lib\\site-packages (from matplotlib) (1.3.1)\n",
      "Requirement already satisfied: cycler>=0.10 in c:\\users\\richard\\onedrive\\área de trabalho\\estudos\\.venv\\lib\\site-packages (from matplotlib) (0.12.1)\n",
      "Requirement already satisfied: fonttools>=4.22.0 in c:\\users\\richard\\onedrive\\área de trabalho\\estudos\\.venv\\lib\\site-packages (from matplotlib) (4.56.0)\n",
      "Requirement already satisfied: kiwisolver>=1.3.1 in c:\\users\\richard\\onedrive\\área de trabalho\\estudos\\.venv\\lib\\site-packages (from matplotlib) (1.4.8)\n",
      "Requirement already satisfied: numpy>=1.23 in c:\\users\\richard\\onedrive\\área de trabalho\\estudos\\.venv\\lib\\site-packages (from matplotlib) (2.2.3)\n",
      "Requirement already satisfied: packaging>=20.0 in c:\\users\\richard\\onedrive\\área de trabalho\\estudos\\.venv\\lib\\site-packages (from matplotlib) (24.2)\n",
      "Requirement already satisfied: pillow>=8 in c:\\users\\richard\\onedrive\\área de trabalho\\estudos\\.venv\\lib\\site-packages (from matplotlib) (11.1.0)\n",
      "Requirement already satisfied: pyparsing>=2.3.1 in c:\\users\\richard\\onedrive\\área de trabalho\\estudos\\.venv\\lib\\site-packages (from matplotlib) (3.2.1)\n",
      "Requirement already satisfied: python-dateutil>=2.7 in c:\\users\\richard\\onedrive\\área de trabalho\\estudos\\.venv\\lib\\site-packages (from matplotlib) (2.9.0.post0)\n",
      "Requirement already satisfied: pandas>=1.2 in c:\\users\\richard\\onedrive\\área de trabalho\\estudos\\.venv\\lib\\site-packages (from seaborn) (2.2.3)\n",
      "Requirement already satisfied: pytz>=2020.1 in c:\\users\\richard\\onedrive\\área de trabalho\\estudos\\.venv\\lib\\site-packages (from pandas>=1.2->seaborn) (2025.1)\n",
      "Requirement already satisfied: tzdata>=2022.7 in c:\\users\\richard\\onedrive\\área de trabalho\\estudos\\.venv\\lib\\site-packages (from pandas>=1.2->seaborn) (2025.1)\n",
      "Requirement already satisfied: six>=1.5 in c:\\users\\richard\\onedrive\\área de trabalho\\estudos\\.venv\\lib\\site-packages (from python-dateutil>=2.7->matplotlib) (1.17.0)\n"
     ]
    }
   ],
   "source": [
    "!pip install --upgrade matplotlib seaborn\n"
   ]
  },
  {
   "cell_type": "code",
   "execution_count": 3,
   "metadata": {},
   "outputs": [],
   "source": [
    "import pandas as pd\n",
    "import matplotlib.pyplot as plt\n",
    "import seaborn as sns\n",
    "\n",
    "sns.set_theme()"
   ]
  },
  {
   "cell_type": "code",
   "execution_count": 4,
   "metadata": {},
   "outputs": [],
   "source": [
    "# Upload do arquivo do google drive\n",
    " #from google.colab import files\n",
    "# uploaded = files.upload()"
   ]
  },
  {
   "cell_type": "code",
   "execution_count": 5,
   "metadata": {},
   "outputs": [
    {
     "data": {
      "application/vnd.microsoft.datawrangler.viewer.v0+json": {
       "columns": [
        {
         "name": "index",
         "rawType": "int64",
         "type": "integer"
        },
        {
         "name": "Data Venda",
         "rawType": "datetime64[ns]",
         "type": "datetime"
        },
        {
         "name": "Data Envio",
         "rawType": "datetime64[ns]",
         "type": "datetime"
        },
        {
         "name": "ID Loja",
         "rawType": "int64",
         "type": "integer"
        },
        {
         "name": "ID Produto",
         "rawType": "int64",
         "type": "integer"
        },
        {
         "name": "ID Cliente",
         "rawType": "int64",
         "type": "integer"
        },
        {
         "name": "No. Venda",
         "rawType": "object",
         "type": "string"
        },
        {
         "name": "Custo Unitário",
         "rawType": "float64",
         "type": "float"
        },
        {
         "name": "Preço Unitário",
         "rawType": "float64",
         "type": "float"
        },
        {
         "name": "Quantidade",
         "rawType": "int64",
         "type": "integer"
        },
        {
         "name": "Valor Desconto",
         "rawType": "float64",
         "type": "float"
        },
        {
         "name": "Valor Venda",
         "rawType": "float64",
         "type": "float"
        },
        {
         "name": "Produto",
         "rawType": "object",
         "type": "string"
        },
        {
         "name": "Fabricante",
         "rawType": "object",
         "type": "string"
        },
        {
         "name": "Marca",
         "rawType": "object",
         "type": "string"
        },
        {
         "name": "Classe",
         "rawType": "object",
         "type": "string"
        },
        {
         "name": "Cor",
         "rawType": "object",
         "type": "string"
        }
       ],
       "conversionMethod": "pd.DataFrame",
       "ref": "76df8ab0-a340-469a-a87b-eca2a3b08e15",
       "rows": [
        [
         "433",
         "2008-12-23 00:00:00",
         "2008-12-28 00:00:00",
         "307",
         "366",
         "19111",
         "200812233CS669",
         "348.58",
         "758.0",
         "9",
         "1023.3",
         "5798.7",
         "Adventure Works Laptop15.4W M1548 Black",
         "Adventure Works",
         "Adventure Works",
         "Regular",
         "Black"
        ],
        [
         "675",
         "2008-08-13 00:00:00",
         "2008-08-22 00:00:00",
         "306",
         "384",
         "19055",
         "200808133CS608",
         "348.58",
         "758.0",
         "5",
         "379.0",
         "3411.0",
         "Adventure Works Laptop15.4W M1548 Red",
         "Adventure Works",
         "Adventure Works",
         "Regular",
         "Red"
        ],
        [
         "899",
         "2008-03-22 00:00:00",
         "2008-04-04 00:00:00",
         "306",
         "1226",
         "19049",
         "200803224CS555",
         "330.99",
         "999.0",
         "6",
         "419.58",
         "5574.42",
         "Fabrikam Trendsetter 1/3'' 8.5mm X200 Black",
         "Fabrikam, Inc.",
         "Fabrikam",
         "Regular",
         "Black"
        ],
        [
         "826",
         "2009-03-26 00:00:00",
         "2009-04-05 00:00:00",
         "199",
         "1203",
         "18926",
         "200903264CS835",
         "324.69",
         "980.0",
         "6",
         "294.0",
         "5586.0",
         "Fabrikam Trendsetter 2/3'' 17mm X100 Grey",
         "Fabrikam, Inc.",
         "Fabrikam",
         "Regular",
         "Grey"
        ],
        [
         "787",
         "2008-12-02 00:00:00",
         "2008-12-06 00:00:00",
         "307",
         "2497",
         "19110",
         "200812025CS656",
         "5.09",
         "9.99",
         "156",
         "233.766",
         "1324.674",
         "Headphone Adapter for Contoso Phone E130 White",
         "Contoso, Ltd",
         "Contoso",
         "Economy",
         "White"
        ],
        [
         "36",
         "2008-06-12 00:00:00",
         "2008-06-19 00:00:00",
         "306",
         "1178",
         "19053",
         "200806124CS586",
         "330.66",
         "998.0",
         "6",
         "0.0",
         "5988.0",
         "Fabrikam Trendsetter 1/3'' 8.5mm X200 White",
         "Fabrikam, Inc.",
         "Fabrikam",
         "Regular",
         "White"
        ],
        [
         "679",
         "2009-02-06 00:00:00",
         "2009-02-15 00:00:00",
         "307",
         "384",
         "19115",
         "200902063CS697",
         "348.58",
         "758.0",
         "5",
         "758.0",
         "3032.0",
         "Adventure Works Laptop15.4W M1548 Red",
         "Adventure Works",
         "Adventure Works",
         "Regular",
         "Red"
        ],
        [
         "829",
         "2009-09-27 00:00:00",
         "2009-10-08 00:00:00",
         "199",
         "1202",
         "18997",
         "200909274CS910",
         "330.66",
         "998.0",
         "6",
         "598.8",
         "5389.2",
         "Fabrikam Trendsetter 1/3'' 8.5mm X200 Grey",
         "Fabrikam, Inc.",
         "Fabrikam",
         "Regular",
         "Grey"
        ],
        [
         "366",
         "2008-04-24 00:00:00",
         "2008-05-05 00:00:00",
         "307",
         "1203",
         "19097",
         "200804244CS558",
         "324.69",
         "980.0",
         "10",
         "1960.0",
         "7840.0",
         "Fabrikam Trendsetter 2/3'' 17mm X100 Grey",
         "Fabrikam, Inc.",
         "Fabrikam",
         "Regular",
         "Grey"
        ],
        [
         "17",
         "2009-09-12 00:00:00",
         "2009-09-21 00:00:00",
         "307",
         "384",
         "19135",
         "200909123CS725",
         "348.58",
         "758.0",
         "6",
         "0.0",
         "4548.0",
         "Adventure Works Laptop15.4W M1548 Red",
         "Adventure Works",
         "Adventure Works",
         "Regular",
         "Red"
        ]
       ],
       "shape": {
        "columns": 16,
        "rows": 10
       }
      },
      "text/html": [
       "<div>\n",
       "<style scoped>\n",
       "    .dataframe tbody tr th:only-of-type {\n",
       "        vertical-align: middle;\n",
       "    }\n",
       "\n",
       "    .dataframe tbody tr th {\n",
       "        vertical-align: top;\n",
       "    }\n",
       "\n",
       "    .dataframe thead th {\n",
       "        text-align: right;\n",
       "    }\n",
       "</style>\n",
       "<table border=\"1\" class=\"dataframe\">\n",
       "  <thead>\n",
       "    <tr style=\"text-align: right;\">\n",
       "      <th></th>\n",
       "      <th>Data Venda</th>\n",
       "      <th>Data Envio</th>\n",
       "      <th>ID Loja</th>\n",
       "      <th>ID Produto</th>\n",
       "      <th>ID Cliente</th>\n",
       "      <th>No. Venda</th>\n",
       "      <th>Custo Unitário</th>\n",
       "      <th>Preço Unitário</th>\n",
       "      <th>Quantidade</th>\n",
       "      <th>Valor Desconto</th>\n",
       "      <th>Valor Venda</th>\n",
       "      <th>Produto</th>\n",
       "      <th>Fabricante</th>\n",
       "      <th>Marca</th>\n",
       "      <th>Classe</th>\n",
       "      <th>Cor</th>\n",
       "    </tr>\n",
       "  </thead>\n",
       "  <tbody>\n",
       "    <tr>\n",
       "      <th>433</th>\n",
       "      <td>2008-12-23</td>\n",
       "      <td>2008-12-28</td>\n",
       "      <td>307</td>\n",
       "      <td>366</td>\n",
       "      <td>19111</td>\n",
       "      <td>200812233CS669</td>\n",
       "      <td>348.58</td>\n",
       "      <td>758.00</td>\n",
       "      <td>9</td>\n",
       "      <td>1023.300</td>\n",
       "      <td>5798.700</td>\n",
       "      <td>Adventure Works Laptop15.4W M1548 Black</td>\n",
       "      <td>Adventure Works</td>\n",
       "      <td>Adventure Works</td>\n",
       "      <td>Regular</td>\n",
       "      <td>Black</td>\n",
       "    </tr>\n",
       "    <tr>\n",
       "      <th>675</th>\n",
       "      <td>2008-08-13</td>\n",
       "      <td>2008-08-22</td>\n",
       "      <td>306</td>\n",
       "      <td>384</td>\n",
       "      <td>19055</td>\n",
       "      <td>200808133CS608</td>\n",
       "      <td>348.58</td>\n",
       "      <td>758.00</td>\n",
       "      <td>5</td>\n",
       "      <td>379.000</td>\n",
       "      <td>3411.000</td>\n",
       "      <td>Adventure Works Laptop15.4W M1548 Red</td>\n",
       "      <td>Adventure Works</td>\n",
       "      <td>Adventure Works</td>\n",
       "      <td>Regular</td>\n",
       "      <td>Red</td>\n",
       "    </tr>\n",
       "    <tr>\n",
       "      <th>899</th>\n",
       "      <td>2008-03-22</td>\n",
       "      <td>2008-04-04</td>\n",
       "      <td>306</td>\n",
       "      <td>1226</td>\n",
       "      <td>19049</td>\n",
       "      <td>200803224CS555</td>\n",
       "      <td>330.99</td>\n",
       "      <td>999.00</td>\n",
       "      <td>6</td>\n",
       "      <td>419.580</td>\n",
       "      <td>5574.420</td>\n",
       "      <td>Fabrikam Trendsetter 1/3'' 8.5mm X200 Black</td>\n",
       "      <td>Fabrikam, Inc.</td>\n",
       "      <td>Fabrikam</td>\n",
       "      <td>Regular</td>\n",
       "      <td>Black</td>\n",
       "    </tr>\n",
       "    <tr>\n",
       "      <th>826</th>\n",
       "      <td>2009-03-26</td>\n",
       "      <td>2009-04-05</td>\n",
       "      <td>199</td>\n",
       "      <td>1203</td>\n",
       "      <td>18926</td>\n",
       "      <td>200903264CS835</td>\n",
       "      <td>324.69</td>\n",
       "      <td>980.00</td>\n",
       "      <td>6</td>\n",
       "      <td>294.000</td>\n",
       "      <td>5586.000</td>\n",
       "      <td>Fabrikam Trendsetter 2/3'' 17mm X100 Grey</td>\n",
       "      <td>Fabrikam, Inc.</td>\n",
       "      <td>Fabrikam</td>\n",
       "      <td>Regular</td>\n",
       "      <td>Grey</td>\n",
       "    </tr>\n",
       "    <tr>\n",
       "      <th>787</th>\n",
       "      <td>2008-12-02</td>\n",
       "      <td>2008-12-06</td>\n",
       "      <td>307</td>\n",
       "      <td>2497</td>\n",
       "      <td>19110</td>\n",
       "      <td>200812025CS656</td>\n",
       "      <td>5.09</td>\n",
       "      <td>9.99</td>\n",
       "      <td>156</td>\n",
       "      <td>233.766</td>\n",
       "      <td>1324.674</td>\n",
       "      <td>Headphone Adapter for Contoso Phone E130 White</td>\n",
       "      <td>Contoso, Ltd</td>\n",
       "      <td>Contoso</td>\n",
       "      <td>Economy</td>\n",
       "      <td>White</td>\n",
       "    </tr>\n",
       "    <tr>\n",
       "      <th>36</th>\n",
       "      <td>2008-06-12</td>\n",
       "      <td>2008-06-19</td>\n",
       "      <td>306</td>\n",
       "      <td>1178</td>\n",
       "      <td>19053</td>\n",
       "      <td>200806124CS586</td>\n",
       "      <td>330.66</td>\n",
       "      <td>998.00</td>\n",
       "      <td>6</td>\n",
       "      <td>0.000</td>\n",
       "      <td>5988.000</td>\n",
       "      <td>Fabrikam Trendsetter 1/3'' 8.5mm X200 White</td>\n",
       "      <td>Fabrikam, Inc.</td>\n",
       "      <td>Fabrikam</td>\n",
       "      <td>Regular</td>\n",
       "      <td>White</td>\n",
       "    </tr>\n",
       "    <tr>\n",
       "      <th>679</th>\n",
       "      <td>2009-02-06</td>\n",
       "      <td>2009-02-15</td>\n",
       "      <td>307</td>\n",
       "      <td>384</td>\n",
       "      <td>19115</td>\n",
       "      <td>200902063CS697</td>\n",
       "      <td>348.58</td>\n",
       "      <td>758.00</td>\n",
       "      <td>5</td>\n",
       "      <td>758.000</td>\n",
       "      <td>3032.000</td>\n",
       "      <td>Adventure Works Laptop15.4W M1548 Red</td>\n",
       "      <td>Adventure Works</td>\n",
       "      <td>Adventure Works</td>\n",
       "      <td>Regular</td>\n",
       "      <td>Red</td>\n",
       "    </tr>\n",
       "    <tr>\n",
       "      <th>829</th>\n",
       "      <td>2009-09-27</td>\n",
       "      <td>2009-10-08</td>\n",
       "      <td>199</td>\n",
       "      <td>1202</td>\n",
       "      <td>18997</td>\n",
       "      <td>200909274CS910</td>\n",
       "      <td>330.66</td>\n",
       "      <td>998.00</td>\n",
       "      <td>6</td>\n",
       "      <td>598.800</td>\n",
       "      <td>5389.200</td>\n",
       "      <td>Fabrikam Trendsetter 1/3'' 8.5mm X200 Grey</td>\n",
       "      <td>Fabrikam, Inc.</td>\n",
       "      <td>Fabrikam</td>\n",
       "      <td>Regular</td>\n",
       "      <td>Grey</td>\n",
       "    </tr>\n",
       "    <tr>\n",
       "      <th>366</th>\n",
       "      <td>2008-04-24</td>\n",
       "      <td>2008-05-05</td>\n",
       "      <td>307</td>\n",
       "      <td>1203</td>\n",
       "      <td>19097</td>\n",
       "      <td>200804244CS558</td>\n",
       "      <td>324.69</td>\n",
       "      <td>980.00</td>\n",
       "      <td>10</td>\n",
       "      <td>1960.000</td>\n",
       "      <td>7840.000</td>\n",
       "      <td>Fabrikam Trendsetter 2/3'' 17mm X100 Grey</td>\n",
       "      <td>Fabrikam, Inc.</td>\n",
       "      <td>Fabrikam</td>\n",
       "      <td>Regular</td>\n",
       "      <td>Grey</td>\n",
       "    </tr>\n",
       "    <tr>\n",
       "      <th>17</th>\n",
       "      <td>2009-09-12</td>\n",
       "      <td>2009-09-21</td>\n",
       "      <td>307</td>\n",
       "      <td>384</td>\n",
       "      <td>19135</td>\n",
       "      <td>200909123CS725</td>\n",
       "      <td>348.58</td>\n",
       "      <td>758.00</td>\n",
       "      <td>6</td>\n",
       "      <td>0.000</td>\n",
       "      <td>4548.000</td>\n",
       "      <td>Adventure Works Laptop15.4W M1548 Red</td>\n",
       "      <td>Adventure Works</td>\n",
       "      <td>Adventure Works</td>\n",
       "      <td>Regular</td>\n",
       "      <td>Red</td>\n",
       "    </tr>\n",
       "  </tbody>\n",
       "</table>\n",
       "</div>"
      ],
      "text/plain": [
       "    Data Venda Data Envio  ID Loja  ID Produto  ID Cliente       No. Venda  \\\n",
       "433 2008-12-23 2008-12-28      307         366       19111  200812233CS669   \n",
       "675 2008-08-13 2008-08-22      306         384       19055  200808133CS608   \n",
       "899 2008-03-22 2008-04-04      306        1226       19049  200803224CS555   \n",
       "826 2009-03-26 2009-04-05      199        1203       18926  200903264CS835   \n",
       "787 2008-12-02 2008-12-06      307        2497       19110  200812025CS656   \n",
       "36  2008-06-12 2008-06-19      306        1178       19053  200806124CS586   \n",
       "679 2009-02-06 2009-02-15      307         384       19115  200902063CS697   \n",
       "829 2009-09-27 2009-10-08      199        1202       18997  200909274CS910   \n",
       "366 2008-04-24 2008-05-05      307        1203       19097  200804244CS558   \n",
       "17  2009-09-12 2009-09-21      307         384       19135  200909123CS725   \n",
       "\n",
       "     Custo Unitário  Preço Unitário  Quantidade  Valor Desconto  Valor Venda  \\\n",
       "433          348.58          758.00           9        1023.300     5798.700   \n",
       "675          348.58          758.00           5         379.000     3411.000   \n",
       "899          330.99          999.00           6         419.580     5574.420   \n",
       "826          324.69          980.00           6         294.000     5586.000   \n",
       "787            5.09            9.99         156         233.766     1324.674   \n",
       "36           330.66          998.00           6           0.000     5988.000   \n",
       "679          348.58          758.00           5         758.000     3032.000   \n",
       "829          330.66          998.00           6         598.800     5389.200   \n",
       "366          324.69          980.00          10        1960.000     7840.000   \n",
       "17           348.58          758.00           6           0.000     4548.000   \n",
       "\n",
       "                                            Produto       Fabricante  \\\n",
       "433         Adventure Works Laptop15.4W M1548 Black  Adventure Works   \n",
       "675           Adventure Works Laptop15.4W M1548 Red  Adventure Works   \n",
       "899     Fabrikam Trendsetter 1/3'' 8.5mm X200 Black   Fabrikam, Inc.   \n",
       "826       Fabrikam Trendsetter 2/3'' 17mm X100 Grey   Fabrikam, Inc.   \n",
       "787  Headphone Adapter for Contoso Phone E130 White     Contoso, Ltd   \n",
       "36      Fabrikam Trendsetter 1/3'' 8.5mm X200 White   Fabrikam, Inc.   \n",
       "679           Adventure Works Laptop15.4W M1548 Red  Adventure Works   \n",
       "829      Fabrikam Trendsetter 1/3'' 8.5mm X200 Grey   Fabrikam, Inc.   \n",
       "366       Fabrikam Trendsetter 2/3'' 17mm X100 Grey   Fabrikam, Inc.   \n",
       "17            Adventure Works Laptop15.4W M1548 Red  Adventure Works   \n",
       "\n",
       "               Marca   Classe    Cor  \n",
       "433  Adventure Works  Regular  Black  \n",
       "675  Adventure Works  Regular    Red  \n",
       "899         Fabrikam  Regular  Black  \n",
       "826         Fabrikam  Regular   Grey  \n",
       "787          Contoso  Economy  White  \n",
       "36          Fabrikam  Regular  White  \n",
       "679  Adventure Works  Regular    Red  \n",
       "829         Fabrikam  Regular   Grey  \n",
       "366         Fabrikam  Regular   Grey  \n",
       "17   Adventure Works  Regular    Red  "
      ]
     },
     "execution_count": 5,
     "metadata": {},
     "output_type": "execute_result"
    }
   ],
   "source": [
    "# Abrindo o arquivo excel\n",
    "df = pd.read_excel(r\"C:\\Users\\Richard\\OneDrive\\Área de Trabalho\\ESTUDOS\\AdventureWorks.xlsx\")\n",
    "df.sample(10)"
   ]
  },
  {
   "cell_type": "code",
   "execution_count": 6,
   "metadata": {},
   "outputs": [
    {
     "data": {
      "text/plain": [
       "(904, 16)"
      ]
     },
     "execution_count": 6,
     "metadata": {},
     "output_type": "execute_result"
    }
   ],
   "source": [
    "# Quantidade de linhas e colunas\n",
    "df.shape"
   ]
  },
  {
   "cell_type": "code",
   "execution_count": 7,
   "metadata": {},
   "outputs": [
    {
     "data": {
      "text/plain": [
       "Data Venda        datetime64[ns]\n",
       "Data Envio        datetime64[ns]\n",
       "ID Loja                    int64\n",
       "ID Produto                 int64\n",
       "ID Cliente                 int64\n",
       "No. Venda                 object\n",
       "Custo Unitário           float64\n",
       "Preço Unitário           float64\n",
       "Quantidade                 int64\n",
       "Valor Desconto           float64\n",
       "Valor Venda              float64\n",
       "Produto                   object\n",
       "Fabricante                object\n",
       "Marca                     object\n",
       "Classe                    object\n",
       "Cor                       object\n",
       "dtype: object"
      ]
     },
     "execution_count": 7,
     "metadata": {},
     "output_type": "execute_result"
    }
   ],
   "source": [
    "# Verificando os tipos de dados\n",
    "df.dtypes"
   ]
  },
  {
   "cell_type": "code",
   "execution_count": 10,
   "metadata": {},
   "outputs": [
    {
     "data": {
      "text/plain": [
       "np.float64(6620.139538274336)"
      ]
     },
     "execution_count": 10,
     "metadata": {},
     "output_type": "execute_result"
    }
   ],
   "source": [
    "# Qual foi a receita todal\n",
    "df[\"Valor Venda\"].sum()\n",
    "# Qual foi a receita média\n",
    "df[\"Valor Venda\"].mean()"
   ]
  },
  {
   "cell_type": "code",
   "execution_count": 12,
   "metadata": {},
   "outputs": [],
   "source": [
    "# Qual custo unitário?\n",
    "df[\"custo\"] = df[\"Custo Unitário\"].mul(df[\"Quantidade\"])"
   ]
  },
  {
   "cell_type": "code",
   "execution_count": 13,
   "metadata": {},
   "outputs": [
    {
     "data": {
      "application/vnd.microsoft.datawrangler.viewer.v0+json": {
       "columns": [
        {
         "name": "index",
         "rawType": "int64",
         "type": "integer"
        },
        {
         "name": "Data Venda",
         "rawType": "datetime64[ns]",
         "type": "datetime"
        },
        {
         "name": "Data Envio",
         "rawType": "datetime64[ns]",
         "type": "datetime"
        },
        {
         "name": "ID Loja",
         "rawType": "int64",
         "type": "integer"
        },
        {
         "name": "ID Produto",
         "rawType": "int64",
         "type": "integer"
        },
        {
         "name": "ID Cliente",
         "rawType": "int64",
         "type": "integer"
        },
        {
         "name": "No. Venda",
         "rawType": "object",
         "type": "string"
        },
        {
         "name": "Custo Unitário",
         "rawType": "float64",
         "type": "float"
        },
        {
         "name": "Preço Unitário",
         "rawType": "float64",
         "type": "float"
        },
        {
         "name": "Quantidade",
         "rawType": "int64",
         "type": "integer"
        },
        {
         "name": "Valor Desconto",
         "rawType": "float64",
         "type": "float"
        },
        {
         "name": "Valor Venda",
         "rawType": "float64",
         "type": "float"
        },
        {
         "name": "Produto",
         "rawType": "object",
         "type": "string"
        },
        {
         "name": "Fabricante",
         "rawType": "object",
         "type": "string"
        },
        {
         "name": "Marca",
         "rawType": "object",
         "type": "string"
        },
        {
         "name": "Classe",
         "rawType": "object",
         "type": "string"
        },
        {
         "name": "Cor",
         "rawType": "object",
         "type": "string"
        },
        {
         "name": "custo",
         "rawType": "float64",
         "type": "float"
        }
       ],
       "conversionMethod": "pd.DataFrame",
       "ref": "43dc73f8-0d46-4adc-8bdd-0afddbde99e9",
       "rows": [
        [
         "0",
         "2008-05-09 00:00:00",
         "2008-05-29 00:00:00",
         "199",
         "384",
         "18839",
         "200805093CS607",
         "348.58",
         "758.0",
         "6",
         "0.0",
         "4548.0",
         "Adventure Works Laptop15.4W M1548 Red",
         "Adventure Works",
         "Adventure Works",
         "Regular",
         "Red",
         "2091.48"
        ]
       ],
       "shape": {
        "columns": 17,
        "rows": 1
       }
      },
      "text/html": [
       "<div>\n",
       "<style scoped>\n",
       "    .dataframe tbody tr th:only-of-type {\n",
       "        vertical-align: middle;\n",
       "    }\n",
       "\n",
       "    .dataframe tbody tr th {\n",
       "        vertical-align: top;\n",
       "    }\n",
       "\n",
       "    .dataframe thead th {\n",
       "        text-align: right;\n",
       "    }\n",
       "</style>\n",
       "<table border=\"1\" class=\"dataframe\">\n",
       "  <thead>\n",
       "    <tr style=\"text-align: right;\">\n",
       "      <th></th>\n",
       "      <th>Data Venda</th>\n",
       "      <th>Data Envio</th>\n",
       "      <th>ID Loja</th>\n",
       "      <th>ID Produto</th>\n",
       "      <th>ID Cliente</th>\n",
       "      <th>No. Venda</th>\n",
       "      <th>Custo Unitário</th>\n",
       "      <th>Preço Unitário</th>\n",
       "      <th>Quantidade</th>\n",
       "      <th>Valor Desconto</th>\n",
       "      <th>Valor Venda</th>\n",
       "      <th>Produto</th>\n",
       "      <th>Fabricante</th>\n",
       "      <th>Marca</th>\n",
       "      <th>Classe</th>\n",
       "      <th>Cor</th>\n",
       "      <th>custo</th>\n",
       "    </tr>\n",
       "  </thead>\n",
       "  <tbody>\n",
       "    <tr>\n",
       "      <th>0</th>\n",
       "      <td>2008-05-09</td>\n",
       "      <td>2008-05-29</td>\n",
       "      <td>199</td>\n",
       "      <td>384</td>\n",
       "      <td>18839</td>\n",
       "      <td>200805093CS607</td>\n",
       "      <td>348.58</td>\n",
       "      <td>758.0</td>\n",
       "      <td>6</td>\n",
       "      <td>0.0</td>\n",
       "      <td>4548.0</td>\n",
       "      <td>Adventure Works Laptop15.4W M1548 Red</td>\n",
       "      <td>Adventure Works</td>\n",
       "      <td>Adventure Works</td>\n",
       "      <td>Regular</td>\n",
       "      <td>Red</td>\n",
       "      <td>2091.48</td>\n",
       "    </tr>\n",
       "  </tbody>\n",
       "</table>\n",
       "</div>"
      ],
      "text/plain": [
       "  Data Venda Data Envio  ID Loja  ID Produto  ID Cliente       No. Venda  \\\n",
       "0 2008-05-09 2008-05-29      199         384       18839  200805093CS607   \n",
       "\n",
       "   Custo Unitário  Preço Unitário  Quantidade  Valor Desconto  Valor Venda  \\\n",
       "0          348.58           758.0           6             0.0       4548.0   \n",
       "\n",
       "                                 Produto       Fabricante            Marca  \\\n",
       "0  Adventure Works Laptop15.4W M1548 Red  Adventure Works  Adventure Works   \n",
       "\n",
       "    Classe  Cor    custo  \n",
       "0  Regular  Red  2091.48  "
      ]
     },
     "execution_count": 13,
     "metadata": {},
     "output_type": "execute_result"
    }
   ],
   "source": [
    "df.head(1)"
   ]
  },
  {
   "cell_type": "code",
   "execution_count": 15,
   "metadata": {},
   "outputs": [
    {
     "data": {
      "text/plain": [
       "np.float64(2486783.05)"
      ]
     },
     "execution_count": 15,
     "metadata": {},
     "output_type": "execute_result"
    }
   ],
   "source": [
    "# Qual custo Total?\n",
    "round(df['custo'].sum(), 2) # 2 Arredonda para 2 casas decimais]"
   ]
  },
  {
   "cell_type": "code",
   "execution_count": 18,
   "metadata": {},
   "outputs": [
    {
     "data": {
      "application/vnd.microsoft.datawrangler.viewer.v0+json": {
       "columns": [
        {
         "name": "index",
         "rawType": "int64",
         "type": "integer"
        },
        {
         "name": "Data Venda",
         "rawType": "datetime64[ns]",
         "type": "datetime"
        },
        {
         "name": "Data Envio",
         "rawType": "datetime64[ns]",
         "type": "datetime"
        },
        {
         "name": "ID Loja",
         "rawType": "int64",
         "type": "integer"
        },
        {
         "name": "ID Produto",
         "rawType": "int64",
         "type": "integer"
        },
        {
         "name": "ID Cliente",
         "rawType": "int64",
         "type": "integer"
        },
        {
         "name": "No. Venda",
         "rawType": "object",
         "type": "string"
        },
        {
         "name": "Custo Unitário",
         "rawType": "float64",
         "type": "float"
        },
        {
         "name": "Preço Unitário",
         "rawType": "float64",
         "type": "float"
        },
        {
         "name": "Quantidade",
         "rawType": "int64",
         "type": "integer"
        },
        {
         "name": "Valor Desconto",
         "rawType": "float64",
         "type": "float"
        },
        {
         "name": "Valor Venda",
         "rawType": "float64",
         "type": "float"
        },
        {
         "name": "Produto",
         "rawType": "object",
         "type": "string"
        },
        {
         "name": "Fabricante",
         "rawType": "object",
         "type": "string"
        },
        {
         "name": "Marca",
         "rawType": "object",
         "type": "string"
        },
        {
         "name": "Classe",
         "rawType": "object",
         "type": "string"
        },
        {
         "name": "Cor",
         "rawType": "object",
         "type": "string"
        },
        {
         "name": "custo",
         "rawType": "float64",
         "type": "float"
        },
        {
         "name": "Lucro",
         "rawType": "float64",
         "type": "float"
        }
       ],
       "conversionMethod": "pd.DataFrame",
       "ref": "f7ebb5e2-50a6-49dd-8770-9596618e3ca5",
       "rows": [
        [
         "0",
         "2008-05-09 00:00:00",
         "2008-05-29 00:00:00",
         "199",
         "384",
         "18839",
         "200805093CS607",
         "348.58",
         "758.0",
         "6",
         "0.0",
         "4548.0",
         "Adventure Works Laptop15.4W M1548 Red",
         "Adventure Works",
         "Adventure Works",
         "Regular",
         "Red",
         "2091.48",
         "2456.52"
        ]
       ],
       "shape": {
        "columns": 18,
        "rows": 1
       }
      },
      "text/html": [
       "<div>\n",
       "<style scoped>\n",
       "    .dataframe tbody tr th:only-of-type {\n",
       "        vertical-align: middle;\n",
       "    }\n",
       "\n",
       "    .dataframe tbody tr th {\n",
       "        vertical-align: top;\n",
       "    }\n",
       "\n",
       "    .dataframe thead th {\n",
       "        text-align: right;\n",
       "    }\n",
       "</style>\n",
       "<table border=\"1\" class=\"dataframe\">\n",
       "  <thead>\n",
       "    <tr style=\"text-align: right;\">\n",
       "      <th></th>\n",
       "      <th>Data Venda</th>\n",
       "      <th>Data Envio</th>\n",
       "      <th>ID Loja</th>\n",
       "      <th>ID Produto</th>\n",
       "      <th>ID Cliente</th>\n",
       "      <th>No. Venda</th>\n",
       "      <th>Custo Unitário</th>\n",
       "      <th>Preço Unitário</th>\n",
       "      <th>Quantidade</th>\n",
       "      <th>Valor Desconto</th>\n",
       "      <th>Valor Venda</th>\n",
       "      <th>Produto</th>\n",
       "      <th>Fabricante</th>\n",
       "      <th>Marca</th>\n",
       "      <th>Classe</th>\n",
       "      <th>Cor</th>\n",
       "      <th>custo</th>\n",
       "      <th>Lucro</th>\n",
       "    </tr>\n",
       "  </thead>\n",
       "  <tbody>\n",
       "    <tr>\n",
       "      <th>0</th>\n",
       "      <td>2008-05-09</td>\n",
       "      <td>2008-05-29</td>\n",
       "      <td>199</td>\n",
       "      <td>384</td>\n",
       "      <td>18839</td>\n",
       "      <td>200805093CS607</td>\n",
       "      <td>348.58</td>\n",
       "      <td>758.0</td>\n",
       "      <td>6</td>\n",
       "      <td>0.0</td>\n",
       "      <td>4548.0</td>\n",
       "      <td>Adventure Works Laptop15.4W M1548 Red</td>\n",
       "      <td>Adventure Works</td>\n",
       "      <td>Adventure Works</td>\n",
       "      <td>Regular</td>\n",
       "      <td>Red</td>\n",
       "      <td>2091.48</td>\n",
       "      <td>2456.52</td>\n",
       "    </tr>\n",
       "  </tbody>\n",
       "</table>\n",
       "</div>"
      ],
      "text/plain": [
       "  Data Venda Data Envio  ID Loja  ID Produto  ID Cliente       No. Venda  \\\n",
       "0 2008-05-09 2008-05-29      199         384       18839  200805093CS607   \n",
       "\n",
       "   Custo Unitário  Preço Unitário  Quantidade  Valor Desconto  Valor Venda  \\\n",
       "0          348.58           758.0           6             0.0       4548.0   \n",
       "\n",
       "                                 Produto       Fabricante            Marca  \\\n",
       "0  Adventure Works Laptop15.4W M1548 Red  Adventure Works  Adventure Works   \n",
       "\n",
       "    Classe  Cor    custo    Lucro  \n",
       "0  Regular  Red  2091.48  2456.52  "
      ]
     },
     "execution_count": 18,
     "metadata": {},
     "output_type": "execute_result"
    }
   ],
   "source": [
    "# Criando a coluna de lucro: Receita - Custo\n",
    "df[\"Lucro\"] = df[\"Valor Venda\"] - df[\"custo\"]\n",
    "df.head(1)\n"
   ]
  },
  {
   "cell_type": "code",
   "execution_count": 19,
   "metadata": {},
   "outputs": [
    {
     "data": {
      "text/plain": [
       "np.float64(3497823.09)"
      ]
     },
     "execution_count": 19,
     "metadata": {},
     "output_type": "execute_result"
    }
   ],
   "source": [
    "# Total Lucro\n",
    "round(df[\"Lucro\"].sum(), 2) "
   ]
  },
  {
   "cell_type": "code",
   "execution_count": 20,
   "metadata": {},
   "outputs": [
    {
     "data": {
      "application/vnd.microsoft.datawrangler.viewer.v0+json": {
       "columns": [
        {
         "name": "index",
         "rawType": "int64",
         "type": "integer"
        },
        {
         "name": "Data Venda",
         "rawType": "datetime64[ns]",
         "type": "datetime"
        },
        {
         "name": "Data Envio",
         "rawType": "datetime64[ns]",
         "type": "datetime"
        },
        {
         "name": "ID Loja",
         "rawType": "int64",
         "type": "integer"
        },
        {
         "name": "ID Produto",
         "rawType": "int64",
         "type": "integer"
        },
        {
         "name": "ID Cliente",
         "rawType": "int64",
         "type": "integer"
        },
        {
         "name": "No. Venda",
         "rawType": "object",
         "type": "string"
        },
        {
         "name": "Custo Unitário",
         "rawType": "float64",
         "type": "float"
        },
        {
         "name": "Preço Unitário",
         "rawType": "float64",
         "type": "float"
        },
        {
         "name": "Quantidade",
         "rawType": "int64",
         "type": "integer"
        },
        {
         "name": "Valor Desconto",
         "rawType": "float64",
         "type": "float"
        },
        {
         "name": "Valor Venda",
         "rawType": "float64",
         "type": "float"
        },
        {
         "name": "Produto",
         "rawType": "object",
         "type": "string"
        },
        {
         "name": "Fabricante",
         "rawType": "object",
         "type": "string"
        },
        {
         "name": "Marca",
         "rawType": "object",
         "type": "string"
        },
        {
         "name": "Classe",
         "rawType": "object",
         "type": "string"
        },
        {
         "name": "Cor",
         "rawType": "object",
         "type": "string"
        },
        {
         "name": "custo",
         "rawType": "float64",
         "type": "float"
        },
        {
         "name": "Lucro",
         "rawType": "float64",
         "type": "float"
        },
        {
         "name": "Tempo_envio",
         "rawType": "timedelta64[ns]",
         "type": "unknown"
        }
       ],
       "conversionMethod": "pd.DataFrame",
       "ref": "9f86efd3-ca9f-4604-b34b-aad437953ce9",
       "rows": [
        [
         "0",
         "2008-05-09 00:00:00",
         "2008-05-29 00:00:00",
         "199",
         "384",
         "18839",
         "200805093CS607",
         "348.58",
         "758.0",
         "6",
         "0.0",
         "4548.0",
         "Adventure Works Laptop15.4W M1548 Red",
         "Adventure Works",
         "Adventure Works",
         "Regular",
         "Red",
         "2091.48",
         "2456.52",
         "20 days 00:00:00"
        ]
       ],
       "shape": {
        "columns": 19,
        "rows": 1
       }
      },
      "text/html": [
       "<div>\n",
       "<style scoped>\n",
       "    .dataframe tbody tr th:only-of-type {\n",
       "        vertical-align: middle;\n",
       "    }\n",
       "\n",
       "    .dataframe tbody tr th {\n",
       "        vertical-align: top;\n",
       "    }\n",
       "\n",
       "    .dataframe thead th {\n",
       "        text-align: right;\n",
       "    }\n",
       "</style>\n",
       "<table border=\"1\" class=\"dataframe\">\n",
       "  <thead>\n",
       "    <tr style=\"text-align: right;\">\n",
       "      <th></th>\n",
       "      <th>Data Venda</th>\n",
       "      <th>Data Envio</th>\n",
       "      <th>ID Loja</th>\n",
       "      <th>ID Produto</th>\n",
       "      <th>ID Cliente</th>\n",
       "      <th>No. Venda</th>\n",
       "      <th>Custo Unitário</th>\n",
       "      <th>Preço Unitário</th>\n",
       "      <th>Quantidade</th>\n",
       "      <th>Valor Desconto</th>\n",
       "      <th>Valor Venda</th>\n",
       "      <th>Produto</th>\n",
       "      <th>Fabricante</th>\n",
       "      <th>Marca</th>\n",
       "      <th>Classe</th>\n",
       "      <th>Cor</th>\n",
       "      <th>custo</th>\n",
       "      <th>Lucro</th>\n",
       "      <th>Tempo_envio</th>\n",
       "    </tr>\n",
       "  </thead>\n",
       "  <tbody>\n",
       "    <tr>\n",
       "      <th>0</th>\n",
       "      <td>2008-05-09</td>\n",
       "      <td>2008-05-29</td>\n",
       "      <td>199</td>\n",
       "      <td>384</td>\n",
       "      <td>18839</td>\n",
       "      <td>200805093CS607</td>\n",
       "      <td>348.58</td>\n",
       "      <td>758.0</td>\n",
       "      <td>6</td>\n",
       "      <td>0.0</td>\n",
       "      <td>4548.0</td>\n",
       "      <td>Adventure Works Laptop15.4W M1548 Red</td>\n",
       "      <td>Adventure Works</td>\n",
       "      <td>Adventure Works</td>\n",
       "      <td>Regular</td>\n",
       "      <td>Red</td>\n",
       "      <td>2091.48</td>\n",
       "      <td>2456.52</td>\n",
       "      <td>20 days</td>\n",
       "    </tr>\n",
       "  </tbody>\n",
       "</table>\n",
       "</div>"
      ],
      "text/plain": [
       "  Data Venda Data Envio  ID Loja  ID Produto  ID Cliente       No. Venda  \\\n",
       "0 2008-05-09 2008-05-29      199         384       18839  200805093CS607   \n",
       "\n",
       "   Custo Unitário  Preço Unitário  Quantidade  Valor Desconto  Valor Venda  \\\n",
       "0          348.58           758.0           6             0.0       4548.0   \n",
       "\n",
       "                                 Produto       Fabricante            Marca  \\\n",
       "0  Adventure Works Laptop15.4W M1548 Red  Adventure Works  Adventure Works   \n",
       "\n",
       "    Classe  Cor    custo    Lucro Tempo_envio  \n",
       "0  Regular  Red  2091.48  2456.52     20 days  "
      ]
     },
     "execution_count": 20,
     "metadata": {},
     "output_type": "execute_result"
    }
   ],
   "source": [
    "# Analisando tempo de envio\n",
    "df[\"Tempo_envio\"] = df['Data Envio'] - df['Data Venda']\n",
    "df.head(1)\n"
   ]
  },
  {
   "cell_type": "code",
   "execution_count": 25,
   "metadata": {},
   "outputs": [
    {
     "data": {
      "text/plain": [
       "Marca\n",
       "Adventure Works    8.66\n",
       "Contoso            8.47\n",
       "Fabrikam           8.51\n",
       "Name: Tempo_envio, dtype: float64"
      ]
     },
     "execution_count": 25,
     "metadata": {},
     "output_type": "execute_result"
    }
   ],
   "source": [
    "# Média de tempo de envio por Marca\n",
    "df[\"Tempo_envio\"] = (df['Data Envio'] - df['Data Venda']).dt.days # Transformando em dias\n",
    "round(df.groupby(\"Marca\")[\"Tempo_envio\"].mean(), 2)"
   ]
  },
  {
   "cell_type": "code",
   "execution_count": 26,
   "metadata": {},
   "outputs": [
    {
     "data": {
      "text/plain": [
       "Data Venda        0\n",
       "Data Envio        0\n",
       "ID Loja           0\n",
       "ID Produto        0\n",
       "ID Cliente        0\n",
       "No. Venda         0\n",
       "Custo Unitário    0\n",
       "Preço Unitário    0\n",
       "Quantidade        0\n",
       "Valor Desconto    0\n",
       "Valor Venda       0\n",
       "Produto           0\n",
       "Fabricante        0\n",
       "Marca             0\n",
       "Classe            0\n",
       "Cor               0\n",
       "custo             0\n",
       "Lucro             0\n",
       "Tempo_envio       0\n",
       "dtype: int64"
      ]
     },
     "execution_count": 26,
     "metadata": {},
     "output_type": "execute_result"
    }
   ],
   "source": [
    "# Analisando valores ausentes\n",
    "df.isnull().sum()\n"
   ]
  },
  {
   "cell_type": "code",
   "execution_count": 27,
   "metadata": {},
   "outputs": [],
   "source": [
    "# LUCRO POR ANO E POR MARCA"
   ]
  },
  {
   "cell_type": "code",
   "execution_count": 37,
   "metadata": {},
   "outputs": [
    {
     "data": {
      "text/plain": [
       "Data Venda  Marca          \n",
       "2008        Adventure Works             306,641.16\n",
       "            Contoso                      56,416.00\n",
       "            Fabrikam                  1,557,020.55\n",
       "2009        Adventure Works             405,395.08\n",
       "            Contoso                     138,258.95\n",
       "            Fabrikam                  1,034,091.35\n",
       "Name: Lucro, dtype: float64"
      ]
     },
     "execution_count": 37,
     "metadata": {},
     "output_type": "execute_result"
    }
   ],
   "source": [
    "# Agrupando por ano e marca\n",
    "df.groupby([df['Data Venda'].dt.year, \"Marca\"])[\"Lucro\"].sum()\n"
   ]
  },
  {
   "cell_type": "code",
   "execution_count": 38,
   "metadata": {},
   "outputs": [],
   "source": [
    "pd.options.display.float_format = '{:20,.2f}'.format"
   ]
  },
  {
   "cell_type": "code",
   "execution_count": 39,
   "metadata": {},
   "outputs": [
    {
     "data": {
      "application/vnd.microsoft.datawrangler.viewer.v0+json": {
       "columns": [
        {
         "name": "index",
         "rawType": "int64",
         "type": "integer"
        },
        {
         "name": "Data Venda",
         "rawType": "int32",
         "type": "integer"
        },
        {
         "name": "Marca",
         "rawType": "object",
         "type": "string"
        },
        {
         "name": "Lucro",
         "rawType": "float64",
         "type": "float"
        }
       ],
       "conversionMethod": "pd.DataFrame",
       "ref": "749a4d44-c21a-41f6-9be1-2b6262384bae",
       "rows": [
        [
         "0",
         "2008",
         "Adventure Works",
         "306641.16000000003"
        ],
        [
         "1",
         "2008",
         "Contoso",
         "56416.001"
        ],
        [
         "2",
         "2008",
         "Fabrikam",
         "1557020.55"
        ],
        [
         "3",
         "2009",
         "Adventure Works",
         "405395.08"
        ],
        [
         "4",
         "2009",
         "Contoso",
         "138258.9516"
        ],
        [
         "5",
         "2009",
         "Fabrikam",
         "1034091.35"
        ]
       ],
       "shape": {
        "columns": 3,
        "rows": 6
       }
      },
      "text/html": [
       "<div>\n",
       "<style scoped>\n",
       "    .dataframe tbody tr th:only-of-type {\n",
       "        vertical-align: middle;\n",
       "    }\n",
       "\n",
       "    .dataframe tbody tr th {\n",
       "        vertical-align: top;\n",
       "    }\n",
       "\n",
       "    .dataframe thead th {\n",
       "        text-align: right;\n",
       "    }\n",
       "</style>\n",
       "<table border=\"1\" class=\"dataframe\">\n",
       "  <thead>\n",
       "    <tr style=\"text-align: right;\">\n",
       "      <th></th>\n",
       "      <th>Data Venda</th>\n",
       "      <th>Marca</th>\n",
       "      <th>Lucro</th>\n",
       "    </tr>\n",
       "  </thead>\n",
       "  <tbody>\n",
       "    <tr>\n",
       "      <th>0</th>\n",
       "      <td>2008</td>\n",
       "      <td>Adventure Works</td>\n",
       "      <td>306,641.16</td>\n",
       "    </tr>\n",
       "    <tr>\n",
       "      <th>1</th>\n",
       "      <td>2008</td>\n",
       "      <td>Contoso</td>\n",
       "      <td>56,416.00</td>\n",
       "    </tr>\n",
       "    <tr>\n",
       "      <th>2</th>\n",
       "      <td>2008</td>\n",
       "      <td>Fabrikam</td>\n",
       "      <td>1,557,020.55</td>\n",
       "    </tr>\n",
       "    <tr>\n",
       "      <th>3</th>\n",
       "      <td>2009</td>\n",
       "      <td>Adventure Works</td>\n",
       "      <td>405,395.08</td>\n",
       "    </tr>\n",
       "    <tr>\n",
       "      <th>4</th>\n",
       "      <td>2009</td>\n",
       "      <td>Contoso</td>\n",
       "      <td>138,258.95</td>\n",
       "    </tr>\n",
       "    <tr>\n",
       "      <th>5</th>\n",
       "      <td>2009</td>\n",
       "      <td>Fabrikam</td>\n",
       "      <td>1,034,091.35</td>\n",
       "    </tr>\n",
       "  </tbody>\n",
       "</table>\n",
       "</div>"
      ],
      "text/plain": [
       "   Data Venda            Marca                Lucro\n",
       "0        2008  Adventure Works           306,641.16\n",
       "1        2008          Contoso            56,416.00\n",
       "2        2008         Fabrikam         1,557,020.55\n",
       "3        2009  Adventure Works           405,395.08\n",
       "4        2009          Contoso           138,258.95\n",
       "5        2009         Fabrikam         1,034,091.35"
      ]
     },
     "execution_count": 39,
     "metadata": {},
     "output_type": "execute_result"
    }
   ],
   "source": [
    "# Resetando o index\n",
    "Lucro_Ano = df.groupby([df[\"Data Venda\"].dt.year, \"Marca\"])[\"Lucro\"].sum().reset_index()\n",
    "Lucro_Ano"
   ]
  },
  {
   "cell_type": "code",
   "execution_count": 36,
   "metadata": {},
   "outputs": [
    {
     "data": {
      "text/plain": [
       "Produto\n",
       "Headphone Adapter for Contoso Phone E130 Silver    25232\n",
       "Headphone Adapter for Contoso Phone E130 White     25008\n",
       "Adventure Works Laptop15.4W M1548 Black             1089\n",
       "Fabrikam Trendsetter 2/3'' 17mm X100 Grey           1087\n",
       "Adventure Works Laptop15.4W M1548 Red               1047\n",
       "Fabrikam Trendsetter 2/3'' 17mm X100 Black           926\n",
       "Fabrikam Trendsetter 1/3'' 8.5mm X200 Black          884\n",
       "Fabrikam Trendsetter 1/3'' 8.5mm X200 Grey           845\n",
       "Fabrikam Trendsetter 1/3'' 8.5mm X200 White          789\n",
       "Name: Quantidade, dtype: int64"
      ]
     },
     "execution_count": 36,
     "metadata": {},
     "output_type": "execute_result"
    }
   ],
   "source": [
    "# Total de produtos vendidos\n",
    "df.groupby('Produto')['Quantidade'].sum().sort_values(ascending=False)\n"
   ]
  },
  {
   "cell_type": "code",
   "execution_count": 40,
   "metadata": {},
   "outputs": [
    {
     "data": {
      "text/plain": [
       "<Axes: title={'center': 'Total de produtos vendidos'}, ylabel='Produto'>"
      ]
     },
     "execution_count": 40,
     "metadata": {},
     "output_type": "execute_result"
    },
    {
     "data": {
      "image/png": "[encoded data removed]",
      "text/plain": [
       "<Figure size 640x480 with 1 Axes>"
      ]
     },
     "metadata": {},
     "output_type": "display_data"
    }
   ],
   "source": [
    "# Gráfico Total de produtos vendidos\n",
    "df.groupby(\"Produto\")[\"Quantidade\"].sum().sort_values(ascending=True).plot.barh(title=\"Total de produtos vendidos\")\n"
   ]
  },
  {
   "cell_type": "code",
   "execution_count": 42,
   "metadata": {},
   "outputs": [
    {
     "data": {
      "text/plain": [
       "Text(0, 0.5, 'Receita')"
      ]
     },
     "execution_count": 42,
     "metadata": {},
     "output_type": "execute_result"
    },
    {
     "data": {
      "image/png": "[encoded data removed]",
      "text/plain": [
       "<Figure size 640x480 with 1 Axes>"
      ]
     },
     "metadata": {},
     "output_type": "display_data"
    }
   ],
   "source": [
    "# Gráfico Lucro por Ano\n",
    "\n",
    "df.groupby(df[\"Data Venda\"].dt.year)[\"Lucro\"].sum().plot.bar(title=\"Lucro x Ano\")\n",
    "plt.xlabel(\"Ano\")\n",
    "plt.ylabel(\"Receita\")"
   ]
  },
  {
   "cell_type": "code",
   "execution_count": 44,
   "metadata": {},
   "outputs": [
    {
     "data": {
      "text/plain": [
       "Data Venda\n",
       "2008           1,920,077.71\n",
       "2009           1,577,745.38\n",
       "Name: Lucro, dtype: float64"
      ]
     },
     "execution_count": 44,
     "metadata": {},
     "output_type": "execute_result"
    }
   ],
   "source": [
    "# Para Analisar os número\n",
    "df.groupby(df[\"Data Venda\"].dt.year)[\"Lucro\"].sum()\n"
   ]
  },
  {
   "cell_type": "code",
   "execution_count": 46,
   "metadata": {},
   "outputs": [
    {
     "data": {
      "text/plain": [
       "(array([0, 1, 2]),\n",
       " [Text(0, 0, 'Adventure Works'),\n",
       "  Text(1, 0, 'Contoso'),\n",
       "  Text(2, 0, 'Fabrikam')])"
      ]
     },
     "execution_count": 46,
     "metadata": {},
     "output_type": "execute_result"
    },
    {
     "data": {
      "image/png": "[encoded data removed]",
      "text/plain": [
       "<Figure size 640x480 with 1 Axes>"
      ]
     },
     "metadata": {},
     "output_type": "display_data"
    }
   ],
   "source": [
    "df_2009 = df[df[\"Data Venda\"].dt.year == 2009]\n",
    "df_2009.groupby(\"Marca\")[\"Lucro\"].sum().plot.bar(title=\"Lucro x Marca\")\n",
    "plt.xlabel(\"Marca\")\n",
    "plt.ylabel(\"Lucro\")\n",
    "plt.xticks(rotation='horizontal') # Rotaciona o texto do eixo x\n"
   ]
  },
  {
   "cell_type": "code",
   "execution_count": 47,
   "metadata": {},
   "outputs": [
    {
     "data": {
      "text/plain": [
       "Text(0, 0.5, 'Lucro')"
      ]
     },
     "execution_count": 47,
     "metadata": {},
     "output_type": "execute_result"
    },
    {
     "data": {
      "image/png": "[encoded data removed]",
      "text/plain": [
       "<Figure size 640x480 with 1 Axes>"
      ]
     },
     "metadata": {},
     "output_type": "display_data"
    }
   ],
   "source": [
    "# Lucro por mês em 2009\n",
    "df_2009.groupby(df_2009[\"Data Venda\"].dt.month)[\"Lucro\"].sum().plot(title=\"Lucro x Mês\")\n",
    "plt.xlabel(\"Mês\")  \n",
    "plt.ylabel(\"Lucro\")\n"
   ]
  },
  {
   "cell_type": "code",
   "execution_count": 48,
   "metadata": {},
   "outputs": [
    {
     "data": {
      "text/plain": [
       "Text(0, 0.5, 'Lucro')"
      ]
     },
     "execution_count": 48,
     "metadata": {},
     "output_type": "execute_result"
    },
    {
     "data": {
      "image/png": "[encoded data removed]",
      "text/plain": [
       "<Figure size 640x480 with 1 Axes>"
      ]
     },
     "metadata": {},
     "output_type": "display_data"
    }
   ],
   "source": [
    "# Lucro por Classe\n",
    "df_2009.groupby(\"Classe\")[\"Lucro\"].sum().plot.bar(title=\"Lucro x Classe\")\n",
    "plt.xlabel(\"Classe\")\n",
    "plt.ylabel(\"Lucro\")\n"
   ]
  },
  {
   "cell_type": "code",
   "execution_count": 50,
   "metadata": {},
   "outputs": [
    {
     "data": {
      "text/plain": [
       "count                 904.00\n",
       "mean                    8.54\n",
       "std                     3.06\n",
       "min                     4.00\n",
       "25%                     6.00\n",
       "50%                     9.00\n",
       "75%                    11.00\n",
       "max                    20.00\n",
       "Name: Tempo_envio, dtype: float64"
      ]
     },
     "execution_count": 50,
     "metadata": {},
     "output_type": "execute_result"
    }
   ],
   "source": [
    " # Descrevendo tempo de envio\n",
    "df[\"Tempo_envio\"].describe()"
   ]
  },
  {
   "cell_type": "code",
   "execution_count": 52,
   "metadata": {},
   "outputs": [
    {
     "data": {
      "text/plain": [
       "(array([217., 137.,  70., 179., 115., 185.,   0.,   0.,   0.,   1.]),\n",
       " array([ 4. ,  5.6,  7.2,  8.8, 10.4, 12. , 13.6, 15.2, 16.8, 18.4, 20. ]),\n",
       " <BarContainer object of 10 artists>)"
      ]
     },
     "execution_count": 52,
     "metadata": {},
     "output_type": "execute_result"
    },
    {
     "data": {
      "image/png": "[encoded data removed]",
      "text/plain": [
       "<Figure size 640x480 with 1 Axes>"
      ]
     },
     "metadata": {},
     "output_type": "display_data"
    }
   ],
   "source": [
    "# Histograma\n",
    "plt.hist(df[\"Tempo_envio\"])\n",
    "# Mudando a cor do histograma\n",
    "plt.hist(df[\"Tempo_envio\"], color=\"purple\", edgecolor=\"black\")\n"
   ]
  },
  {
   "cell_type": "code",
   "execution_count": null,
   "metadata": {},
   "outputs": [],
   "source": []
  }
 ],
 "metadata": {
  "kernelspec": {
   "display_name": ".venv",
   "language": "python",
   "name": "python3"
  },
  "language_info": {
   "codemirror_mode": {
    "name": "ipython",
    "version": 3
   },
   "file_extension": ".py",
   "mimetype": "text/x-python",
   "name": "python",
   "nbconvert_exporter": "python",
   "pygments_lexer": "ipython3",
   "version": "3.12.9"
  }
 },
 "nbformat": 4,
 "nbformat_minor": 2
}
