{
 "cells": [
  {
   "cell_type": "code",
   "execution_count": 5,
   "metadata": {},
   "outputs": [
    {
     "name": "stdout",
     "output_type": "stream",
     "text": [
      "Estou aprendendo Python\n",
      "Olá, Mundo!\n"
     ]
    },
    {
     "data": {
      "text/plain": [
       "'estou aprendendo python'"
      ]
     },
     "execution_count": 5,
     "metadata": {},
     "output_type": "execute_result"
    }
   ],
   "source": [
    "X = \"Estou aprendendo Python\"\n",
    "print(X)\n",
    "# Este é um comentário\n",
    "print(\"Olá, Mundo!\") # Este é outro comentário\n",
    "X[0:4] # Retorna os caracteres da posição 0 a 4\n",
    "X.count(\"e\") # Retorna a quantidade de caracteres \"e\" na string\n",
    "X.find(\"Python\") # Retorna a posição da string \"Python\" na string\n",
    "X.split() # Retorna uma lista de strings separadas por espaço\n",
    "X.replace(\"Python\", \"Java\") # Substitui a string \"Python\" por \"Java\"\n",
    "X.upper() # Retorna a string em maiúsculo\n",
    "X.lower() # Retorna a string em minúsculo\n"
   ]
  },
  {
   "cell_type": "code",
   "execution_count": 13,
   "metadata": {},
   "outputs": [
    {
     "name": "stdout",
     "output_type": "stream",
     "text": [
      "[1, 2, 3, 4, 5]\n",
      "['Cachorro', 'Gato', 'Papagaio']\n",
      "['Cachorro', 'Gato', 'Papagaio', 'Coelho']\n",
      "['Cachorro', 'Gato', 'Papagaio']\n",
      "Gato está na lista\n",
      "['Gato', 'Papagaio', ['Cavalo', 'Vaca', 'Pato']]\n",
      "['Gato', 'Papagaio', ['Cavalo', 'Vaca', 'Pato'], 'Cavalo', 'Vaca', 'Pato']\n",
      "['Gato', 'Papagaio', ['Cavalo', 'Vaca', 'Pato'], 'Cavalo', 'Vaca', 'Macaco', 'Pato']\n"
     ]
    }
   ],
   "source": [
    "# Criando Listas\n",
    "lista = [1, 2, 3, 4, 5]\n",
    "print(lista)\n",
    "\n",
    "Animais = [\"Cachorro\", \"Gato\", \"Papagaio\"]\n",
    "print(Animais)\n",
    "\n",
    "#adicionando elementos\n",
    "Animais.append(\"Coelho\")\n",
    "print(Animais)\n",
    "\n",
    "#removendo elementos\n",
    "Animais.remove(\"Coelho\")\n",
    "print(Animais)\n",
    "\n",
    "#removendo elementos por indice\n",
    "Animais.pop(0)\n",
    "\n",
    "#tamanho da lista\n",
    "len(Animais)\n",
    "\n",
    "# Elementos pertencentes a lista\n",
    "if \"Gato\" in Animais:\n",
    "    print(\"Gato está na lista\")\n",
    "\n",
    "# Lista aninhada\n",
    "Animais.append([\"Cavalo\", \"Vaca\", \"Pato\"])\n",
    "print(Animais)\n",
    "\n",
    "# Função extend\n",
    "Animais.extend([\"Cavalo\", \"Vaca\", \"Pato\"])\n",
    "print(Animais)\n",
    "\n",
    "# Adicionando Elementos em posições específicas\n",
    "Animais.insert(5, \"Macaco\")\n",
    "print(Animais)\n"
   ]
  },
  {
   "cell_type": "code",
   "execution_count": 18,
   "metadata": {},
   "outputs": [
    {
     "name": "stdout",
     "output_type": "stream",
     "text": [
      "('Python', 'Java', 'C++')\n",
      "3\n"
     ]
    }
   ],
   "source": [
    "# Tuplas\n",
    "# Tuplas são similares as listas, porém são imutáveis\n",
    "# Tuplas são definidas por parênteses\n",
    "Tupla = (\"Python\", \"Java\", \"C++\")\n",
    "print(Tupla)\n",
    "\n",
    "len(Tupla)\n",
    "print(len(Tupla))\n",
    "\n",
    "### Tupla.append(\"C#\") # Erro, tuplas são imutáveis\n",
    "### print(Tupla)\n"
   ]
  },
  {
   "cell_type": "code",
   "execution_count": 33,
   "metadata": {},
   "outputs": [
    {
     "name": "stdout",
     "output_type": "stream",
     "text": [
      "{'nome': ('Lucas', 'João', 'Maria'), 'idade': (20, 25, 30), 'altura': (1.8, 1.7, 1.6), 'peso': (80.5, 70.5, 60.5), 'sexo': ('M', 'M', 'F')}\n",
      "João 25 1.7 70.5 M\n",
      "('Lucas', 'João', 'Maria')\n",
      "{'Maçã': 3, 'Banana': 5, 'Laranja': 8, 'Pera': 2}\n",
      "{'Maçã': 3, 'Banana': 5, 'Laranja': 8, 'Pera': 2, 'Abacaxi': 10}\n",
      "{'Maçã': 3, 'Banana': 5, 'Laranja': 8, 'Pera': 2, 'Abacaxi': 10, 'Uva': 7}\n"
     ]
    }
   ],
   "source": [
    "# Dicionários or Dicts\n",
    "\n",
    "# Dicionários são coleções de dados que armazenam valores em pares de chave e valor.\n",
    "# São mutáveis, ou seja, podemos alterar seus valores após a criação do dicionário.\n",
    "\n",
    "# Criando um dicionário vazio\n",
    "pessoa = {}\n",
    "\n",
    "# Adicionando elementos ao dicionário\n",
    "pessoa['nome'] = 'Lucas', 'João', 'Maria'\n",
    "pessoa['idade'] = 20, 25, 30\n",
    "pessoa['altura'] = 1.80, 1.70, 1.60\n",
    "pessoa['peso'] = 80.5, 70.5, 60.5\n",
    "pessoa['sexo'] = 'M', 'M', 'F'\n",
    "print(pessoa)\n",
    "\n",
    "#imprimindo o valor 2 da chave nome\n",
    "print(pessoa['nome'][1], pessoa['idade'][1], pessoa['altura'][1], pessoa['peso'][1], pessoa['sexo'][1])\n",
    "\n",
    "# Imprimindo o valor da chave nome\n",
    "print(pessoa['nome'])\n",
    "\n",
    "# Dict for fruits\n",
    "Frutas = {'Maçã': 3, 'Banana': 5, 'Laranja': 8, 'Pera': 2}\n",
    "print(Frutas)\n",
    "\n",
    "# Adicionando um novo item ao dicionário\n",
    "Frutas['Abacaxi'] = 10\n",
    "print(Frutas)\n",
    "\n",
    "# Verificando a existe de uma chave no dicionário caso não exista inserir\n",
    "Frutas.setdefault('Uva', 7)\n",
    "print(Frutas)\n",
    "\n",
    "\n",
    "\n"
   ]
  }
 ],
 "metadata": {
  "kernelspec": {
   "display_name": "Python 3",
   "language": "python",
   "name": "python3"
  },
  "language_info": {
   "codemirror_mode": {
    "name": "ipython",
    "version": 3
   },
   "file_extension": ".py",
   "mimetype": "text/x-python",
   "name": "python",
   "nbconvert_exporter": "python",
   "pygments_lexer": "ipython3",
   "version": "3.12.9"
  }
 },
 "nbformat": 4,
 "nbformat_minor": 2
}
